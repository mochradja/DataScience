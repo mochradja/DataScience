{
  "nbformat": 4,
  "nbformat_minor": 0,
  "metadata": {
    "colab": {
      "provenance": [],
      "authorship_tag": "ABX9TyPlgtEcq4t3k/+UM5FnpBE2",
      "include_colab_link": true
    },
    "kernelspec": {
      "name": "python3",
      "display_name": "Python 3"
    },
    "language_info": {
      "name": "python"
    }
  },
  "cells": [
    {
      "cell_type": "markdown",
      "metadata": {
        "id": "view-in-github",
        "colab_type": "text"
      },
      "source": [
        "<a href=\"https://colab.research.google.com/github/mochradja/DataScience/blob/main/Data_MlbbHeroes.ipynb\" target=\"_parent\"><img src=\"https://colab.research.google.com/assets/colab-badge.svg\" alt=\"Open In Colab\"/></a>"
      ]
    },
    {
      "cell_type": "markdown",
      "source": [
        "# **MOCHAMMAD RADJA BROJAS - UJIAN 6**"
      ],
      "metadata": {
        "id": "CdtIpGfsNzlx"
      }
    },
    {
      "cell_type": "code",
      "execution_count": null,
      "metadata": {
        "id": "a_aek2H3Bt0W"
      },
      "outputs": [],
      "source": [
        "import numpy as np\n",
        "import pandas as pd\n",
        "import seaborn as sns\n",
        "import matplotlib.pyplot as plt\n",
        "\n",
        "from sklearn.cluster import KMeans\n",
        "from sklearn.preprocessing import MinMaxScaler"
      ]
    },
    {
      "cell_type": "code",
      "source": [
        "df = pd.read_csv('sample_data/mlbb_heroes.csv')\n",
        "df"
      ],
      "metadata": {
        "colab": {
          "base_uri": "https://localhost:8080/",
          "height": 672
        },
        "id": "lMmB6JUgB0En",
        "outputId": "7b35dd10-ab99-474c-c72e-94e93d858746"
      },
      "execution_count": null,
      "outputs": [
        {
          "output_type": "execute_result",
          "data": {
            "text/plain": [
              "     hero_name      role  defense_overall  offense_overall  \\\n",
              "0      Terizla   fighter              7.0              8.0   \n",
              "1       Martis   fighter              6.0              8.0   \n",
              "2        Grock      tank              8.0              5.0   \n",
              "3     Carmilla   support              5.0              5.0   \n",
              "4      Irithel  marksman              5.0              5.0   \n",
              "..         ...       ...              ...              ...   \n",
              "98   Esmeralda      mage              7.0              6.0   \n",
              "99   Benedetta  assassin              5.0              6.0   \n",
              "100      Brody  marksman              6.0              9.0   \n",
              "101    Natalia  assassin              6.0              9.0   \n",
              "102   Silvanna   fighter              6.0              6.0   \n",
              "\n",
              "     skill_effect_overall  difficulty_overall  movement_spd  magic_defense  \\\n",
              "0                     6.0                 6.0           255             10   \n",
              "1                     5.0                 5.0           260             10   \n",
              "2                     6.0                 4.0           260             10   \n",
              "3                     9.0                 5.0           255             10   \n",
              "4                     8.0                 7.0           260             10   \n",
              "..                    ...                 ...           ...            ...   \n",
              "98                    6.0                 4.0           240             10   \n",
              "99                    7.0                 7.0           260             10   \n",
              "100                   4.0                 7.0           253             10   \n",
              "101                   4.0                 6.0           250             10   \n",
              "102                   5.0                 4.0           255             10   \n",
              "\n",
              "     mana  hp_regen  physical_atk  physical_defense    hp  attack_speed  \\\n",
              "0     430        54           129                19  2728          0.80   \n",
              "1       0        35           128                25  2738          0.86   \n",
              "2     430        42           135                21  2819          0.81   \n",
              "3     430        39           126                25  2528          0.91   \n",
              "4     438        35           118                17  2540          0.82   \n",
              "..    ...       ...           ...               ...   ...           ...   \n",
              "98    502        36           114                21  2573          0.80   \n",
              "99    460        33           128                15  2499          0.88   \n",
              "100   435        36           140                14  2490          0.96   \n",
              "101   486        35           121                18  2589          0.89   \n",
              "102   430        39           126                22  2828          0.91   \n",
              "\n",
              "     mana_regen  win_rate  pick_rate  ban_rate  release_year  \n",
              "0          21.0     47.00       0.15      0.02          2019  \n",
              "1           0.0     45.00       0.15      0.02          2018  \n",
              "2          12.0     47.69       0.14      0.02          2017  \n",
              "3          16.0     53.76       0.08      0.02          2020  \n",
              "4          15.0     51.52       0.38      0.03          2017  \n",
              "..          ...       ...        ...       ...           ...  \n",
              "98         20.0     49.14       1.25     42.29          2019  \n",
              "99         16.0     52.38       0.72     49.46          2020  \n",
              "100         3.0     51.57       0.71     60.05          2020  \n",
              "101        15.0     47.76       0.41     61.29          2016  \n",
              "102        16.0     52.65       3.06      9.59          2019  \n",
              "\n",
              "[103 rows x 19 columns]"
            ],
            "text/html": [
              "\n",
              "  <div id=\"df-4ac77df1-261a-4123-a483-f11fea3656f6\">\n",
              "    <div class=\"colab-df-container\">\n",
              "      <div>\n",
              "<style scoped>\n",
              "    .dataframe tbody tr th:only-of-type {\n",
              "        vertical-align: middle;\n",
              "    }\n",
              "\n",
              "    .dataframe tbody tr th {\n",
              "        vertical-align: top;\n",
              "    }\n",
              "\n",
              "    .dataframe thead th {\n",
              "        text-align: right;\n",
              "    }\n",
              "</style>\n",
              "<table border=\"1\" class=\"dataframe\">\n",
              "  <thead>\n",
              "    <tr style=\"text-align: right;\">\n",
              "      <th></th>\n",
              "      <th>hero_name</th>\n",
              "      <th>role</th>\n",
              "      <th>defense_overall</th>\n",
              "      <th>offense_overall</th>\n",
              "      <th>skill_effect_overall</th>\n",
              "      <th>difficulty_overall</th>\n",
              "      <th>movement_spd</th>\n",
              "      <th>magic_defense</th>\n",
              "      <th>mana</th>\n",
              "      <th>hp_regen</th>\n",
              "      <th>physical_atk</th>\n",
              "      <th>physical_defense</th>\n",
              "      <th>hp</th>\n",
              "      <th>attack_speed</th>\n",
              "      <th>mana_regen</th>\n",
              "      <th>win_rate</th>\n",
              "      <th>pick_rate</th>\n",
              "      <th>ban_rate</th>\n",
              "      <th>release_year</th>\n",
              "    </tr>\n",
              "  </thead>\n",
              "  <tbody>\n",
              "    <tr>\n",
              "      <th>0</th>\n",
              "      <td>Terizla</td>\n",
              "      <td>fighter</td>\n",
              "      <td>7.0</td>\n",
              "      <td>8.0</td>\n",
              "      <td>6.0</td>\n",
              "      <td>6.0</td>\n",
              "      <td>255</td>\n",
              "      <td>10</td>\n",
              "      <td>430</td>\n",
              "      <td>54</td>\n",
              "      <td>129</td>\n",
              "      <td>19</td>\n",
              "      <td>2728</td>\n",
              "      <td>0.80</td>\n",
              "      <td>21.0</td>\n",
              "      <td>47.00</td>\n",
              "      <td>0.15</td>\n",
              "      <td>0.02</td>\n",
              "      <td>2019</td>\n",
              "    </tr>\n",
              "    <tr>\n",
              "      <th>1</th>\n",
              "      <td>Martis</td>\n",
              "      <td>fighter</td>\n",
              "      <td>6.0</td>\n",
              "      <td>8.0</td>\n",
              "      <td>5.0</td>\n",
              "      <td>5.0</td>\n",
              "      <td>260</td>\n",
              "      <td>10</td>\n",
              "      <td>0</td>\n",
              "      <td>35</td>\n",
              "      <td>128</td>\n",
              "      <td>25</td>\n",
              "      <td>2738</td>\n",
              "      <td>0.86</td>\n",
              "      <td>0.0</td>\n",
              "      <td>45.00</td>\n",
              "      <td>0.15</td>\n",
              "      <td>0.02</td>\n",
              "      <td>2018</td>\n",
              "    </tr>\n",
              "    <tr>\n",
              "      <th>2</th>\n",
              "      <td>Grock</td>\n",
              "      <td>tank</td>\n",
              "      <td>8.0</td>\n",
              "      <td>5.0</td>\n",
              "      <td>6.0</td>\n",
              "      <td>4.0</td>\n",
              "      <td>260</td>\n",
              "      <td>10</td>\n",
              "      <td>430</td>\n",
              "      <td>42</td>\n",
              "      <td>135</td>\n",
              "      <td>21</td>\n",
              "      <td>2819</td>\n",
              "      <td>0.81</td>\n",
              "      <td>12.0</td>\n",
              "      <td>47.69</td>\n",
              "      <td>0.14</td>\n",
              "      <td>0.02</td>\n",
              "      <td>2017</td>\n",
              "    </tr>\n",
              "    <tr>\n",
              "      <th>3</th>\n",
              "      <td>Carmilla</td>\n",
              "      <td>support</td>\n",
              "      <td>5.0</td>\n",
              "      <td>5.0</td>\n",
              "      <td>9.0</td>\n",
              "      <td>5.0</td>\n",
              "      <td>255</td>\n",
              "      <td>10</td>\n",
              "      <td>430</td>\n",
              "      <td>39</td>\n",
              "      <td>126</td>\n",
              "      <td>25</td>\n",
              "      <td>2528</td>\n",
              "      <td>0.91</td>\n",
              "      <td>16.0</td>\n",
              "      <td>53.76</td>\n",
              "      <td>0.08</td>\n",
              "      <td>0.02</td>\n",
              "      <td>2020</td>\n",
              "    </tr>\n",
              "    <tr>\n",
              "      <th>4</th>\n",
              "      <td>Irithel</td>\n",
              "      <td>marksman</td>\n",
              "      <td>5.0</td>\n",
              "      <td>5.0</td>\n",
              "      <td>8.0</td>\n",
              "      <td>7.0</td>\n",
              "      <td>260</td>\n",
              "      <td>10</td>\n",
              "      <td>438</td>\n",
              "      <td>35</td>\n",
              "      <td>118</td>\n",
              "      <td>17</td>\n",
              "      <td>2540</td>\n",
              "      <td>0.82</td>\n",
              "      <td>15.0</td>\n",
              "      <td>51.52</td>\n",
              "      <td>0.38</td>\n",
              "      <td>0.03</td>\n",
              "      <td>2017</td>\n",
              "    </tr>\n",
              "    <tr>\n",
              "      <th>...</th>\n",
              "      <td>...</td>\n",
              "      <td>...</td>\n",
              "      <td>...</td>\n",
              "      <td>...</td>\n",
              "      <td>...</td>\n",
              "      <td>...</td>\n",
              "      <td>...</td>\n",
              "      <td>...</td>\n",
              "      <td>...</td>\n",
              "      <td>...</td>\n",
              "      <td>...</td>\n",
              "      <td>...</td>\n",
              "      <td>...</td>\n",
              "      <td>...</td>\n",
              "      <td>...</td>\n",
              "      <td>...</td>\n",
              "      <td>...</td>\n",
              "      <td>...</td>\n",
              "      <td>...</td>\n",
              "    </tr>\n",
              "    <tr>\n",
              "      <th>98</th>\n",
              "      <td>Esmeralda</td>\n",
              "      <td>mage</td>\n",
              "      <td>7.0</td>\n",
              "      <td>6.0</td>\n",
              "      <td>6.0</td>\n",
              "      <td>4.0</td>\n",
              "      <td>240</td>\n",
              "      <td>10</td>\n",
              "      <td>502</td>\n",
              "      <td>36</td>\n",
              "      <td>114</td>\n",
              "      <td>21</td>\n",
              "      <td>2573</td>\n",
              "      <td>0.80</td>\n",
              "      <td>20.0</td>\n",
              "      <td>49.14</td>\n",
              "      <td>1.25</td>\n",
              "      <td>42.29</td>\n",
              "      <td>2019</td>\n",
              "    </tr>\n",
              "    <tr>\n",
              "      <th>99</th>\n",
              "      <td>Benedetta</td>\n",
              "      <td>assassin</td>\n",
              "      <td>5.0</td>\n",
              "      <td>6.0</td>\n",
              "      <td>7.0</td>\n",
              "      <td>7.0</td>\n",
              "      <td>260</td>\n",
              "      <td>10</td>\n",
              "      <td>460</td>\n",
              "      <td>33</td>\n",
              "      <td>128</td>\n",
              "      <td>15</td>\n",
              "      <td>2499</td>\n",
              "      <td>0.88</td>\n",
              "      <td>16.0</td>\n",
              "      <td>52.38</td>\n",
              "      <td>0.72</td>\n",
              "      <td>49.46</td>\n",
              "      <td>2020</td>\n",
              "    </tr>\n",
              "    <tr>\n",
              "      <th>100</th>\n",
              "      <td>Brody</td>\n",
              "      <td>marksman</td>\n",
              "      <td>6.0</td>\n",
              "      <td>9.0</td>\n",
              "      <td>4.0</td>\n",
              "      <td>7.0</td>\n",
              "      <td>253</td>\n",
              "      <td>10</td>\n",
              "      <td>435</td>\n",
              "      <td>36</td>\n",
              "      <td>140</td>\n",
              "      <td>14</td>\n",
              "      <td>2490</td>\n",
              "      <td>0.96</td>\n",
              "      <td>3.0</td>\n",
              "      <td>51.57</td>\n",
              "      <td>0.71</td>\n",
              "      <td>60.05</td>\n",
              "      <td>2020</td>\n",
              "    </tr>\n",
              "    <tr>\n",
              "      <th>101</th>\n",
              "      <td>Natalia</td>\n",
              "      <td>assassin</td>\n",
              "      <td>6.0</td>\n",
              "      <td>9.0</td>\n",
              "      <td>4.0</td>\n",
              "      <td>6.0</td>\n",
              "      <td>250</td>\n",
              "      <td>10</td>\n",
              "      <td>486</td>\n",
              "      <td>35</td>\n",
              "      <td>121</td>\n",
              "      <td>18</td>\n",
              "      <td>2589</td>\n",
              "      <td>0.89</td>\n",
              "      <td>15.0</td>\n",
              "      <td>47.76</td>\n",
              "      <td>0.41</td>\n",
              "      <td>61.29</td>\n",
              "      <td>2016</td>\n",
              "    </tr>\n",
              "    <tr>\n",
              "      <th>102</th>\n",
              "      <td>Silvanna</td>\n",
              "      <td>fighter</td>\n",
              "      <td>6.0</td>\n",
              "      <td>6.0</td>\n",
              "      <td>5.0</td>\n",
              "      <td>4.0</td>\n",
              "      <td>255</td>\n",
              "      <td>10</td>\n",
              "      <td>430</td>\n",
              "      <td>39</td>\n",
              "      <td>126</td>\n",
              "      <td>22</td>\n",
              "      <td>2828</td>\n",
              "      <td>0.91</td>\n",
              "      <td>16.0</td>\n",
              "      <td>52.65</td>\n",
              "      <td>3.06</td>\n",
              "      <td>9.59</td>\n",
              "      <td>2019</td>\n",
              "    </tr>\n",
              "  </tbody>\n",
              "</table>\n",
              "<p>103 rows × 19 columns</p>\n",
              "</div>\n",
              "      <button class=\"colab-df-convert\" onclick=\"convertToInteractive('df-4ac77df1-261a-4123-a483-f11fea3656f6')\"\n",
              "              title=\"Convert this dataframe to an interactive table.\"\n",
              "              style=\"display:none;\">\n",
              "        \n",
              "  <svg xmlns=\"http://www.w3.org/2000/svg\" height=\"24px\"viewBox=\"0 0 24 24\"\n",
              "       width=\"24px\">\n",
              "    <path d=\"M0 0h24v24H0V0z\" fill=\"none\"/>\n",
              "    <path d=\"M18.56 5.44l.94 2.06.94-2.06 2.06-.94-2.06-.94-.94-2.06-.94 2.06-2.06.94zm-11 1L8.5 8.5l.94-2.06 2.06-.94-2.06-.94L8.5 2.5l-.94 2.06-2.06.94zm10 10l.94 2.06.94-2.06 2.06-.94-2.06-.94-.94-2.06-.94 2.06-2.06.94z\"/><path d=\"M17.41 7.96l-1.37-1.37c-.4-.4-.92-.59-1.43-.59-.52 0-1.04.2-1.43.59L10.3 9.45l-7.72 7.72c-.78.78-.78 2.05 0 2.83L4 21.41c.39.39.9.59 1.41.59.51 0 1.02-.2 1.41-.59l7.78-7.78 2.81-2.81c.8-.78.8-2.07 0-2.86zM5.41 20L4 18.59l7.72-7.72 1.47 1.35L5.41 20z\"/>\n",
              "  </svg>\n",
              "      </button>\n",
              "      \n",
              "  <style>\n",
              "    .colab-df-container {\n",
              "      display:flex;\n",
              "      flex-wrap:wrap;\n",
              "      gap: 12px;\n",
              "    }\n",
              "\n",
              "    .colab-df-convert {\n",
              "      background-color: #E8F0FE;\n",
              "      border: none;\n",
              "      border-radius: 50%;\n",
              "      cursor: pointer;\n",
              "      display: none;\n",
              "      fill: #1967D2;\n",
              "      height: 32px;\n",
              "      padding: 0 0 0 0;\n",
              "      width: 32px;\n",
              "    }\n",
              "\n",
              "    .colab-df-convert:hover {\n",
              "      background-color: #E2EBFA;\n",
              "      box-shadow: 0px 1px 2px rgba(60, 64, 67, 0.3), 0px 1px 3px 1px rgba(60, 64, 67, 0.15);\n",
              "      fill: #174EA6;\n",
              "    }\n",
              "\n",
              "    [theme=dark] .colab-df-convert {\n",
              "      background-color: #3B4455;\n",
              "      fill: #D2E3FC;\n",
              "    }\n",
              "\n",
              "    [theme=dark] .colab-df-convert:hover {\n",
              "      background-color: #434B5C;\n",
              "      box-shadow: 0px 1px 3px 1px rgba(0, 0, 0, 0.15);\n",
              "      filter: drop-shadow(0px 1px 2px rgba(0, 0, 0, 0.3));\n",
              "      fill: #FFFFFF;\n",
              "    }\n",
              "  </style>\n",
              "\n",
              "      <script>\n",
              "        const buttonEl =\n",
              "          document.querySelector('#df-4ac77df1-261a-4123-a483-f11fea3656f6 button.colab-df-convert');\n",
              "        buttonEl.style.display =\n",
              "          google.colab.kernel.accessAllowed ? 'block' : 'none';\n",
              "\n",
              "        async function convertToInteractive(key) {\n",
              "          const element = document.querySelector('#df-4ac77df1-261a-4123-a483-f11fea3656f6');\n",
              "          const dataTable =\n",
              "            await google.colab.kernel.invokeFunction('convertToInteractive',\n",
              "                                                     [key], {});\n",
              "          if (!dataTable) return;\n",
              "\n",
              "          const docLinkHtml = 'Like what you see? Visit the ' +\n",
              "            '<a target=\"_blank\" href=https://colab.research.google.com/notebooks/data_table.ipynb>data table notebook</a>'\n",
              "            + ' to learn more about interactive tables.';\n",
              "          element.innerHTML = '';\n",
              "          dataTable['output_type'] = 'display_data';\n",
              "          await google.colab.output.renderOutput(dataTable, element);\n",
              "          const docLink = document.createElement('div');\n",
              "          docLink.innerHTML = docLinkHtml;\n",
              "          element.appendChild(docLink);\n",
              "        }\n",
              "      </script>\n",
              "    </div>\n",
              "  </div>\n",
              "  "
            ]
          },
          "metadata": {},
          "execution_count": 3
        }
      ]
    },
    {
      "cell_type": "code",
      "source": [
        "df.info()"
      ],
      "metadata": {
        "colab": {
          "base_uri": "https://localhost:8080/"
        },
        "id": "D05KMkz8C-m8",
        "outputId": "e116c9cf-2e96-4a45-d0fc-b45b5fa35baf"
      },
      "execution_count": null,
      "outputs": [
        {
          "output_type": "stream",
          "name": "stdout",
          "text": [
            "<class 'pandas.core.frame.DataFrame'>\n",
            "RangeIndex: 103 entries, 0 to 102\n",
            "Data columns (total 19 columns):\n",
            " #   Column                Non-Null Count  Dtype  \n",
            "---  ------                --------------  -----  \n",
            " 0   hero_name             103 non-null    object \n",
            " 1   role                  103 non-null    object \n",
            " 2   defense_overall       103 non-null    float64\n",
            " 3   offense_overall       103 non-null    float64\n",
            " 4   skill_effect_overall  103 non-null    float64\n",
            " 5   difficulty_overall    103 non-null    float64\n",
            " 6   movement_spd          103 non-null    int64  \n",
            " 7   magic_defense         103 non-null    int64  \n",
            " 8   mana                  103 non-null    int64  \n",
            " 9   hp_regen              103 non-null    int64  \n",
            " 10  physical_atk          103 non-null    float64\n",
            " 11  physical_defense      103 non-null    float64\n",
            " 12  hp                    103 non-null    int64  \n",
            " 13  attack_speed          103 non-null    float64\n",
            " 14  mana_regen            103 non-null    float64\n",
            " 15  win_rate              103 non-null    float64\n",
            " 16  pick_rate             103 non-null    float64\n",
            " 17  ban_rate              103 non-null    float64\n",
            " 18  release_year          103 non-null    int64  \n",
            "dtypes: float64(11), int64(6), object(2)\n",
            "memory usage: 15.4+ KB\n"
          ]
        }
      ]
    },
    {
      "cell_type": "code",
      "source": [
        "df.isna().sum()"
      ],
      "metadata": {
        "colab": {
          "base_uri": "https://localhost:8080/"
        },
        "id": "epqN_uY6DAie",
        "outputId": "da06e62a-6d48-4e0f-dcb2-6b0f20c7296d"
      },
      "execution_count": null,
      "outputs": [
        {
          "output_type": "execute_result",
          "data": {
            "text/plain": [
              "hero_name               0\n",
              "role                    0\n",
              "defense_overall         0\n",
              "offense_overall         0\n",
              "skill_effect_overall    0\n",
              "difficulty_overall      0\n",
              "movement_spd            0\n",
              "magic_defense           0\n",
              "mana                    0\n",
              "hp_regen                0\n",
              "physical_atk            0\n",
              "physical_defense        0\n",
              "hp                      0\n",
              "attack_speed            0\n",
              "mana_regen              0\n",
              "win_rate                0\n",
              "pick_rate               0\n",
              "ban_rate                0\n",
              "release_year            0\n",
              "dtype: int64"
            ]
          },
          "metadata": {},
          "execution_count": 5
        }
      ]
    },
    {
      "cell_type": "code",
      "source": [
        "scaler = MinMaxScaler()\n",
        "scaler.fit(df[['physical_atk']])\n",
        "df['physical_atk'] = scaler.transform(df[['physical_atk']])\n",
        "\n",
        "scaler.fit(df[['win_rate']])\n",
        "df['win_rate'] = scaler.transform(df[['win_rate']])\n",
        "\n",
        "scaler.fit(df[['physical_defense']])\n",
        "df['physical_defense'] = scaler.transform(df[['physical_defense']])\n",
        "\n",
        "scaler.fit(df[['hp_regen']])\n",
        "df['hp_regen'] = scaler.transform(df[['hp_regen']])\n"
      ],
      "metadata": {
        "id": "xxFjAyAFIYvM"
      },
      "execution_count": null,
      "outputs": []
    },
    {
      "cell_type": "code",
      "source": [
        "df"
      ],
      "metadata": {
        "colab": {
          "base_uri": "https://localhost:8080/",
          "height": 488
        },
        "id": "fLq9WUHqIfna",
        "outputId": "4cbea679-0f79-4a23-fc75-d56e9cf85f51"
      },
      "execution_count": null,
      "outputs": [
        {
          "output_type": "execute_result",
          "data": {
            "text/plain": [
              "     hero_name      role  defense_overall  offense_overall  \\\n",
              "0      Terizla   fighter              7.0              8.0   \n",
              "1       Martis   fighter              6.0              8.0   \n",
              "2        Grock      tank              8.0              5.0   \n",
              "3     Carmilla   support              5.0              5.0   \n",
              "4      Irithel  marksman              5.0              5.0   \n",
              "..         ...       ...              ...              ...   \n",
              "98   Esmeralda      mage              7.0              6.0   \n",
              "99   Benedetta  assassin              5.0              6.0   \n",
              "100      Brody  marksman              6.0              9.0   \n",
              "101    Natalia  assassin              6.0              9.0   \n",
              "102   Silvanna   fighter              6.0              6.0   \n",
              "\n",
              "     skill_effect_overall  difficulty_overall  movement_spd  magic_defense  \\\n",
              "0                     6.0                 6.0           255             10   \n",
              "1                     5.0                 5.0           260             10   \n",
              "2                     6.0                 4.0           260             10   \n",
              "3                     9.0                 5.0           255             10   \n",
              "4                     8.0                 7.0           260             10   \n",
              "..                    ...                 ...           ...            ...   \n",
              "98                    6.0                 4.0           240             10   \n",
              "99                    7.0                 7.0           260             10   \n",
              "100                   4.0                 7.0           253             10   \n",
              "101                   4.0                 6.0           250             10   \n",
              "102                   5.0                 4.0           255             10   \n",
              "\n",
              "     mana  hp_regen  physical_atk  physical_defense    hp  attack_speed  \\\n",
              "0     430  0.479452      0.744186              0.68  2728          0.80   \n",
              "1       0  0.219178      0.720930              0.92  2738          0.86   \n",
              "2     430  0.315068      0.883721              0.76  2819          0.81   \n",
              "3     430  0.273973      0.674419              0.92  2528          0.91   \n",
              "4     438  0.219178      0.488372              0.60  2540          0.82   \n",
              "..    ...       ...           ...               ...   ...           ...   \n",
              "98    502  0.232877      0.395349              0.76  2573          0.80   \n",
              "99    460  0.191781      0.720930              0.52  2499          0.88   \n",
              "100   435  0.232877      1.000000              0.48  2490          0.96   \n",
              "101   486  0.219178      0.558140              0.64  2589          0.89   \n",
              "102   430  0.273973      0.674419              0.80  2828          0.91   \n",
              "\n",
              "     mana_regen  win_rate  pick_rate  ban_rate  release_year  \n",
              "0          21.0  0.174064       0.15      0.02          2019  \n",
              "1           0.0  0.000000       0.15      0.02          2018  \n",
              "2          12.0  0.234117       0.14      0.02          2017  \n",
              "3          16.0  0.762402       0.08      0.02          2020  \n",
              "4          15.0  0.567450       0.38      0.03          2017  \n",
              "..          ...       ...        ...       ...           ...  \n",
              "98         20.0  0.360313       1.25     42.29          2019  \n",
              "99         16.0  0.642298       0.72     49.46          2020  \n",
              "100         3.0  0.571802       0.71     60.05          2020  \n",
              "101        15.0  0.240209       0.41     61.29          2016  \n",
              "102        16.0  0.665796       3.06      9.59          2019  \n",
              "\n",
              "[103 rows x 19 columns]"
            ],
            "text/html": [
              "\n",
              "  <div id=\"df-56c3f141-8c75-4c64-8af5-215ac18d2353\">\n",
              "    <div class=\"colab-df-container\">\n",
              "      <div>\n",
              "<style scoped>\n",
              "    .dataframe tbody tr th:only-of-type {\n",
              "        vertical-align: middle;\n",
              "    }\n",
              "\n",
              "    .dataframe tbody tr th {\n",
              "        vertical-align: top;\n",
              "    }\n",
              "\n",
              "    .dataframe thead th {\n",
              "        text-align: right;\n",
              "    }\n",
              "</style>\n",
              "<table border=\"1\" class=\"dataframe\">\n",
              "  <thead>\n",
              "    <tr style=\"text-align: right;\">\n",
              "      <th></th>\n",
              "      <th>hero_name</th>\n",
              "      <th>role</th>\n",
              "      <th>defense_overall</th>\n",
              "      <th>offense_overall</th>\n",
              "      <th>skill_effect_overall</th>\n",
              "      <th>difficulty_overall</th>\n",
              "      <th>movement_spd</th>\n",
              "      <th>magic_defense</th>\n",
              "      <th>mana</th>\n",
              "      <th>hp_regen</th>\n",
              "      <th>physical_atk</th>\n",
              "      <th>physical_defense</th>\n",
              "      <th>hp</th>\n",
              "      <th>attack_speed</th>\n",
              "      <th>mana_regen</th>\n",
              "      <th>win_rate</th>\n",
              "      <th>pick_rate</th>\n",
              "      <th>ban_rate</th>\n",
              "      <th>release_year</th>\n",
              "    </tr>\n",
              "  </thead>\n",
              "  <tbody>\n",
              "    <tr>\n",
              "      <th>0</th>\n",
              "      <td>Terizla</td>\n",
              "      <td>fighter</td>\n",
              "      <td>7.0</td>\n",
              "      <td>8.0</td>\n",
              "      <td>6.0</td>\n",
              "      <td>6.0</td>\n",
              "      <td>255</td>\n",
              "      <td>10</td>\n",
              "      <td>430</td>\n",
              "      <td>0.479452</td>\n",
              "      <td>0.744186</td>\n",
              "      <td>0.68</td>\n",
              "      <td>2728</td>\n",
              "      <td>0.80</td>\n",
              "      <td>21.0</td>\n",
              "      <td>0.174064</td>\n",
              "      <td>0.15</td>\n",
              "      <td>0.02</td>\n",
              "      <td>2019</td>\n",
              "    </tr>\n",
              "    <tr>\n",
              "      <th>1</th>\n",
              "      <td>Martis</td>\n",
              "      <td>fighter</td>\n",
              "      <td>6.0</td>\n",
              "      <td>8.0</td>\n",
              "      <td>5.0</td>\n",
              "      <td>5.0</td>\n",
              "      <td>260</td>\n",
              "      <td>10</td>\n",
              "      <td>0</td>\n",
              "      <td>0.219178</td>\n",
              "      <td>0.720930</td>\n",
              "      <td>0.92</td>\n",
              "      <td>2738</td>\n",
              "      <td>0.86</td>\n",
              "      <td>0.0</td>\n",
              "      <td>0.000000</td>\n",
              "      <td>0.15</td>\n",
              "      <td>0.02</td>\n",
              "      <td>2018</td>\n",
              "    </tr>\n",
              "    <tr>\n",
              "      <th>2</th>\n",
              "      <td>Grock</td>\n",
              "      <td>tank</td>\n",
              "      <td>8.0</td>\n",
              "      <td>5.0</td>\n",
              "      <td>6.0</td>\n",
              "      <td>4.0</td>\n",
              "      <td>260</td>\n",
              "      <td>10</td>\n",
              "      <td>430</td>\n",
              "      <td>0.315068</td>\n",
              "      <td>0.883721</td>\n",
              "      <td>0.76</td>\n",
              "      <td>2819</td>\n",
              "      <td>0.81</td>\n",
              "      <td>12.0</td>\n",
              "      <td>0.234117</td>\n",
              "      <td>0.14</td>\n",
              "      <td>0.02</td>\n",
              "      <td>2017</td>\n",
              "    </tr>\n",
              "    <tr>\n",
              "      <th>3</th>\n",
              "      <td>Carmilla</td>\n",
              "      <td>support</td>\n",
              "      <td>5.0</td>\n",
              "      <td>5.0</td>\n",
              "      <td>9.0</td>\n",
              "      <td>5.0</td>\n",
              "      <td>255</td>\n",
              "      <td>10</td>\n",
              "      <td>430</td>\n",
              "      <td>0.273973</td>\n",
              "      <td>0.674419</td>\n",
              "      <td>0.92</td>\n",
              "      <td>2528</td>\n",
              "      <td>0.91</td>\n",
              "      <td>16.0</td>\n",
              "      <td>0.762402</td>\n",
              "      <td>0.08</td>\n",
              "      <td>0.02</td>\n",
              "      <td>2020</td>\n",
              "    </tr>\n",
              "    <tr>\n",
              "      <th>4</th>\n",
              "      <td>Irithel</td>\n",
              "      <td>marksman</td>\n",
              "      <td>5.0</td>\n",
              "      <td>5.0</td>\n",
              "      <td>8.0</td>\n",
              "      <td>7.0</td>\n",
              "      <td>260</td>\n",
              "      <td>10</td>\n",
              "      <td>438</td>\n",
              "      <td>0.219178</td>\n",
              "      <td>0.488372</td>\n",
              "      <td>0.60</td>\n",
              "      <td>2540</td>\n",
              "      <td>0.82</td>\n",
              "      <td>15.0</td>\n",
              "      <td>0.567450</td>\n",
              "      <td>0.38</td>\n",
              "      <td>0.03</td>\n",
              "      <td>2017</td>\n",
              "    </tr>\n",
              "    <tr>\n",
              "      <th>...</th>\n",
              "      <td>...</td>\n",
              "      <td>...</td>\n",
              "      <td>...</td>\n",
              "      <td>...</td>\n",
              "      <td>...</td>\n",
              "      <td>...</td>\n",
              "      <td>...</td>\n",
              "      <td>...</td>\n",
              "      <td>...</td>\n",
              "      <td>...</td>\n",
              "      <td>...</td>\n",
              "      <td>...</td>\n",
              "      <td>...</td>\n",
              "      <td>...</td>\n",
              "      <td>...</td>\n",
              "      <td>...</td>\n",
              "      <td>...</td>\n",
              "      <td>...</td>\n",
              "      <td>...</td>\n",
              "    </tr>\n",
              "    <tr>\n",
              "      <th>98</th>\n",
              "      <td>Esmeralda</td>\n",
              "      <td>mage</td>\n",
              "      <td>7.0</td>\n",
              "      <td>6.0</td>\n",
              "      <td>6.0</td>\n",
              "      <td>4.0</td>\n",
              "      <td>240</td>\n",
              "      <td>10</td>\n",
              "      <td>502</td>\n",
              "      <td>0.232877</td>\n",
              "      <td>0.395349</td>\n",
              "      <td>0.76</td>\n",
              "      <td>2573</td>\n",
              "      <td>0.80</td>\n",
              "      <td>20.0</td>\n",
              "      <td>0.360313</td>\n",
              "      <td>1.25</td>\n",
              "      <td>42.29</td>\n",
              "      <td>2019</td>\n",
              "    </tr>\n",
              "    <tr>\n",
              "      <th>99</th>\n",
              "      <td>Benedetta</td>\n",
              "      <td>assassin</td>\n",
              "      <td>5.0</td>\n",
              "      <td>6.0</td>\n",
              "      <td>7.0</td>\n",
              "      <td>7.0</td>\n",
              "      <td>260</td>\n",
              "      <td>10</td>\n",
              "      <td>460</td>\n",
              "      <td>0.191781</td>\n",
              "      <td>0.720930</td>\n",
              "      <td>0.52</td>\n",
              "      <td>2499</td>\n",
              "      <td>0.88</td>\n",
              "      <td>16.0</td>\n",
              "      <td>0.642298</td>\n",
              "      <td>0.72</td>\n",
              "      <td>49.46</td>\n",
              "      <td>2020</td>\n",
              "    </tr>\n",
              "    <tr>\n",
              "      <th>100</th>\n",
              "      <td>Brody</td>\n",
              "      <td>marksman</td>\n",
              "      <td>6.0</td>\n",
              "      <td>9.0</td>\n",
              "      <td>4.0</td>\n",
              "      <td>7.0</td>\n",
              "      <td>253</td>\n",
              "      <td>10</td>\n",
              "      <td>435</td>\n",
              "      <td>0.232877</td>\n",
              "      <td>1.000000</td>\n",
              "      <td>0.48</td>\n",
              "      <td>2490</td>\n",
              "      <td>0.96</td>\n",
              "      <td>3.0</td>\n",
              "      <td>0.571802</td>\n",
              "      <td>0.71</td>\n",
              "      <td>60.05</td>\n",
              "      <td>2020</td>\n",
              "    </tr>\n",
              "    <tr>\n",
              "      <th>101</th>\n",
              "      <td>Natalia</td>\n",
              "      <td>assassin</td>\n",
              "      <td>6.0</td>\n",
              "      <td>9.0</td>\n",
              "      <td>4.0</td>\n",
              "      <td>6.0</td>\n",
              "      <td>250</td>\n",
              "      <td>10</td>\n",
              "      <td>486</td>\n",
              "      <td>0.219178</td>\n",
              "      <td>0.558140</td>\n",
              "      <td>0.64</td>\n",
              "      <td>2589</td>\n",
              "      <td>0.89</td>\n",
              "      <td>15.0</td>\n",
              "      <td>0.240209</td>\n",
              "      <td>0.41</td>\n",
              "      <td>61.29</td>\n",
              "      <td>2016</td>\n",
              "    </tr>\n",
              "    <tr>\n",
              "      <th>102</th>\n",
              "      <td>Silvanna</td>\n",
              "      <td>fighter</td>\n",
              "      <td>6.0</td>\n",
              "      <td>6.0</td>\n",
              "      <td>5.0</td>\n",
              "      <td>4.0</td>\n",
              "      <td>255</td>\n",
              "      <td>10</td>\n",
              "      <td>430</td>\n",
              "      <td>0.273973</td>\n",
              "      <td>0.674419</td>\n",
              "      <td>0.80</td>\n",
              "      <td>2828</td>\n",
              "      <td>0.91</td>\n",
              "      <td>16.0</td>\n",
              "      <td>0.665796</td>\n",
              "      <td>3.06</td>\n",
              "      <td>9.59</td>\n",
              "      <td>2019</td>\n",
              "    </tr>\n",
              "  </tbody>\n",
              "</table>\n",
              "<p>103 rows × 19 columns</p>\n",
              "</div>\n",
              "      <button class=\"colab-df-convert\" onclick=\"convertToInteractive('df-56c3f141-8c75-4c64-8af5-215ac18d2353')\"\n",
              "              title=\"Convert this dataframe to an interactive table.\"\n",
              "              style=\"display:none;\">\n",
              "        \n",
              "  <svg xmlns=\"http://www.w3.org/2000/svg\" height=\"24px\"viewBox=\"0 0 24 24\"\n",
              "       width=\"24px\">\n",
              "    <path d=\"M0 0h24v24H0V0z\" fill=\"none\"/>\n",
              "    <path d=\"M18.56 5.44l.94 2.06.94-2.06 2.06-.94-2.06-.94-.94-2.06-.94 2.06-2.06.94zm-11 1L8.5 8.5l.94-2.06 2.06-.94-2.06-.94L8.5 2.5l-.94 2.06-2.06.94zm10 10l.94 2.06.94-2.06 2.06-.94-2.06-.94-.94-2.06-.94 2.06-2.06.94z\"/><path d=\"M17.41 7.96l-1.37-1.37c-.4-.4-.92-.59-1.43-.59-.52 0-1.04.2-1.43.59L10.3 9.45l-7.72 7.72c-.78.78-.78 2.05 0 2.83L4 21.41c.39.39.9.59 1.41.59.51 0 1.02-.2 1.41-.59l7.78-7.78 2.81-2.81c.8-.78.8-2.07 0-2.86zM5.41 20L4 18.59l7.72-7.72 1.47 1.35L5.41 20z\"/>\n",
              "  </svg>\n",
              "      </button>\n",
              "      \n",
              "  <style>\n",
              "    .colab-df-container {\n",
              "      display:flex;\n",
              "      flex-wrap:wrap;\n",
              "      gap: 12px;\n",
              "    }\n",
              "\n",
              "    .colab-df-convert {\n",
              "      background-color: #E8F0FE;\n",
              "      border: none;\n",
              "      border-radius: 50%;\n",
              "      cursor: pointer;\n",
              "      display: none;\n",
              "      fill: #1967D2;\n",
              "      height: 32px;\n",
              "      padding: 0 0 0 0;\n",
              "      width: 32px;\n",
              "    }\n",
              "\n",
              "    .colab-df-convert:hover {\n",
              "      background-color: #E2EBFA;\n",
              "      box-shadow: 0px 1px 2px rgba(60, 64, 67, 0.3), 0px 1px 3px 1px rgba(60, 64, 67, 0.15);\n",
              "      fill: #174EA6;\n",
              "    }\n",
              "\n",
              "    [theme=dark] .colab-df-convert {\n",
              "      background-color: #3B4455;\n",
              "      fill: #D2E3FC;\n",
              "    }\n",
              "\n",
              "    [theme=dark] .colab-df-convert:hover {\n",
              "      background-color: #434B5C;\n",
              "      box-shadow: 0px 1px 3px 1px rgba(0, 0, 0, 0.15);\n",
              "      filter: drop-shadow(0px 1px 2px rgba(0, 0, 0, 0.3));\n",
              "      fill: #FFFFFF;\n",
              "    }\n",
              "  </style>\n",
              "\n",
              "      <script>\n",
              "        const buttonEl =\n",
              "          document.querySelector('#df-56c3f141-8c75-4c64-8af5-215ac18d2353 button.colab-df-convert');\n",
              "        buttonEl.style.display =\n",
              "          google.colab.kernel.accessAllowed ? 'block' : 'none';\n",
              "\n",
              "        async function convertToInteractive(key) {\n",
              "          const element = document.querySelector('#df-56c3f141-8c75-4c64-8af5-215ac18d2353');\n",
              "          const dataTable =\n",
              "            await google.colab.kernel.invokeFunction('convertToInteractive',\n",
              "                                                     [key], {});\n",
              "          if (!dataTable) return;\n",
              "\n",
              "          const docLinkHtml = 'Like what you see? Visit the ' +\n",
              "            '<a target=\"_blank\" href=https://colab.research.google.com/notebooks/data_table.ipynb>data table notebook</a>'\n",
              "            + ' to learn more about interactive tables.';\n",
              "          element.innerHTML = '';\n",
              "          dataTable['output_type'] = 'display_data';\n",
              "          await google.colab.output.renderOutput(dataTable, element);\n",
              "          const docLink = document.createElement('div');\n",
              "          docLink.innerHTML = docLinkHtml;\n",
              "          element.appendChild(docLink);\n",
              "        }\n",
              "      </script>\n",
              "    </div>\n",
              "  </div>\n",
              "  "
            ]
          },
          "metadata": {},
          "execution_count": 36
        }
      ]
    },
    {
      "cell_type": "markdown",
      "source": [
        "# Melihat kolerasi"
      ],
      "metadata": {
        "id": "OC1um2WbLRAG"
      }
    },
    {
      "cell_type": "code",
      "source": [
        "sns.heatmap(df[['physical_atk', 'ban_rate']].corr(), annot=True)"
      ],
      "metadata": {
        "colab": {
          "base_uri": "https://localhost:8080/",
          "height": 287
        },
        "id": "SAwdw-9wDF2R",
        "outputId": "aec32b82-8bf0-4c4f-d192-a6e5f85a22b8"
      },
      "execution_count": null,
      "outputs": [
        {
          "output_type": "execute_result",
          "data": {
            "text/plain": [
              "<matplotlib.axes._subplots.AxesSubplot at 0x7f1f4e0caa90>"
            ]
          },
          "metadata": {},
          "execution_count": 27
        },
        {
          "output_type": "display_data",
          "data": {
            "text/plain": [
              "<Figure size 432x288 with 2 Axes>"
            ],
            "image/png": "[encoded data removed]"
          },
          "metadata": {
            "needs_background": "light"
          }
        }
      ]
    },
    {
      "cell_type": "code",
      "source": [
        "sns.heatmap(df[['attack_speed', 'ban_rate']].corr(), annot=True)"
      ],
      "metadata": {
        "colab": {
          "base_uri": "https://localhost:8080/",
          "height": 287
        },
        "id": "p0ZPVWFTHQcj",
        "outputId": "9c27ce66-4ede-4a9e-83ac-c34993333b83"
      },
      "execution_count": null,
      "outputs": [
        {
          "output_type": "execute_result",
          "data": {
            "text/plain": [
              "<matplotlib.axes._subplots.AxesSubplot at 0x7f1f4da2bed0>"
            ]
          },
          "metadata": {},
          "execution_count": 40
        },
        {
          "output_type": "display_data",
          "data": {
            "text/plain": [
              "<Figure size 432x288 with 2 Axes>"
            ],
            "image/png": "[encoded data removed]"
          },
          "metadata": {
            "needs_background": "light"
          }
        }
      ]
    },
    {
      "cell_type": "code",
      "source": [
        "sse = []\n",
        "k_rng = range(1, 10)\n",
        "for k in k_rng:\n",
        "  km = KMeans(n_clusters=k)\n",
        "  km.fit(df[['physical_atk', 'ban_rate']])\n",
        "  sse.append(km.inertia_) #inertia = tingkat eror, makin kecil makin bagus\n",
        "\n",
        "sns.lineplot(x='K', y='SSE', data=pd.DataFrame({'K' : k_rng, 'SSE' : sse}))"
      ],
      "metadata": {
        "colab": {
          "base_uri": "https://localhost:8080/",
          "height": 296
        },
        "id": "ZyKljKgnKPUV",
        "outputId": "c11386d6-04df-4639-b447-b3b0e1a22827"
      },
      "execution_count": null,
      "outputs": [
        {
          "output_type": "execute_result",
          "data": {
            "text/plain": [
              "<matplotlib.axes._subplots.AxesSubplot at 0x7f1f4d90ce90>"
            ]
          },
          "metadata": {},
          "execution_count": 41
        },
        {
          "output_type": "display_data",
          "data": {
            "text/plain": [
              "<Figure size 432x288 with 1 Axes>"
            ],
            "image/png": "[encoded data removed]"
          },
          "metadata": {
            "needs_background": "light"
          }
        }
      ]
    },
    {
      "cell_type": "code",
      "source": [
        "sns.lmplot(x='physical_atk', y='win_rate', data=df)"
      ],
      "metadata": {
        "colab": {
          "base_uri": "https://localhost:8080/",
          "height": 386
        },
        "id": "ClhSKSvbLd34",
        "outputId": "251c507c-311f-4ddd-9ea4-86c11cfe1db5"
      },
      "execution_count": null,
      "outputs": [
        {
          "output_type": "execute_result",
          "data": {
            "text/plain": [
              "<seaborn.axisgrid.FacetGrid at 0x7f1f4af55f90>"
            ]
          },
          "metadata": {},
          "execution_count": 54
        },
        {
          "output_type": "display_data",
          "data": {
            "text/plain": [
              "<Figure size 360x360 with 1 Axes>"
            ],
            "image/png": "[encoded data removed]"
          },
          "metadata": {
            "needs_background": "light"
          }
        }
      ]
    },
    {
      "cell_type": "code",
      "source": [
        "x = df[['physical_atk']]\n",
        "y = df[['win_rate']]"
      ],
      "metadata": {
        "id": "MPKC0_-cJEv1"
      },
      "execution_count": null,
      "outputs": []
    },
    {
      "cell_type": "code",
      "source": [
        "# Training data\n",
        "from sklearn.model_selection import train_test_split\n",
        "\n",
        "x_train, x_test, y_train, y_test = train_test_split(x, y, test_size = 0.3, random_state=10)"
      ],
      "metadata": {
        "id": "8_Rj2Ic9KzCZ"
      },
      "execution_count": null,
      "outputs": []
    },
    {
      "cell_type": "code",
      "source": [
        "# Membuat model\n",
        "\n",
        "from sklearn.linear_model import LinearRegression\n",
        "\n",
        "otak = LinearRegression()\n",
        "otak.fit(x_train, y_train)"
      ],
      "metadata": {
        "colab": {
          "base_uri": "https://localhost:8080/"
        },
        "id": "XrUfo_9dK0hN",
        "outputId": "3073d415-329f-4996-9701-303e3c38e4ad"
      },
      "execution_count": null,
      "outputs": [
        {
          "output_type": "execute_result",
          "data": {
            "text/plain": [
              "LinearRegression()"
            ]
          },
          "metadata": {},
          "execution_count": 49
        }
      ]
    },
    {
      "cell_type": "code",
      "source": [
        "otak.intercept_, otak.coef_"
      ],
      "metadata": {
        "colab": {
          "base_uri": "https://localhost:8080/"
        },
        "id": "3bXeUoR7K5om",
        "outputId": "3b1eb9a0-1ad1-4c18-bb29-086a5051ed28"
      },
      "execution_count": null,
      "outputs": [
        {
          "output_type": "execute_result",
          "data": {
            "text/plain": [
              "(array([0.58475495]), array([[-0.25410483]]))"
            ]
          },
          "metadata": {},
          "execution_count": 50
        }
      ]
    },
    {
      "cell_type": "code",
      "source": [
        "otak.score(x_test, y_test)"
      ],
      "metadata": {
        "colab": {
          "base_uri": "https://localhost:8080/"
        },
        "id": "ozH5uYuyK8GG",
        "outputId": "f8cecb31-2b75-4552-d7ef-e861e3636f14"
      },
      "execution_count": null,
      "outputs": [
        {
          "output_type": "execute_result",
          "data": {
            "text/plain": [
              "0.012293709359113225"
            ]
          },
          "metadata": {},
          "execution_count": 51
        }
      ]
    },
    {
      "cell_type": "code",
      "source": [
        "y_predict = otak.predict(x_test)\n",
        "\n",
        "evaluasi = pd.DataFrame({\n",
        "    'Actual': y_test.values.flatten(),\n",
        "    'Predicted' : y_predict.flatten()\n",
        "    })\n",
        "\n",
        "evaluasi.head(10)"
      ],
      "metadata": {
        "colab": {
          "base_uri": "https://localhost:8080/",
          "height": 363
        },
        "id": "xrLmpLheLGdB",
        "outputId": "98553d02-4106-4290-97e8-5c1714f20ac8"
      },
      "execution_count": null,
      "outputs": [
        {
          "output_type": "execute_result",
          "data": {
            "text/plain": [
              "     Actual  Predicted\n",
              "0  0.206266   0.507933\n",
              "1  0.637076   0.484295\n",
              "2  0.484769   0.537480\n",
              "3  0.584856   0.466567\n",
              "4  0.416014   0.454748\n",
              "5  0.762402   0.413382\n",
              "6  0.563098   0.513842\n",
              "7  0.750218   0.490204\n",
              "8  0.181027   0.431110\n",
              "9  0.673629   0.525661"
            ],
            "text/html": [
              "\n",
              "  <div id=\"df-8a7e91fa-4c4b-47f8-9808-48221e1eeebc\">\n",
              "    <div class=\"colab-df-container\">\n",
              "      <div>\n",
              "<style scoped>\n",
              "    .dataframe tbody tr th:only-of-type {\n",
              "        vertical-align: middle;\n",
              "    }\n",
              "\n",
              "    .dataframe tbody tr th {\n",
              "        vertical-align: top;\n",
              "    }\n",
              "\n",
              "    .dataframe thead th {\n",
              "        text-align: right;\n",
              "    }\n",
              "</style>\n",
              "<table border=\"1\" class=\"dataframe\">\n",
              "  <thead>\n",
              "    <tr style=\"text-align: right;\">\n",
              "      <th></th>\n",
              "      <th>Actual</th>\n",
              "      <th>Predicted</th>\n",
              "    </tr>\n",
              "  </thead>\n",
              "  <tbody>\n",
              "    <tr>\n",
              "      <th>0</th>\n",
              "      <td>0.206266</td>\n",
              "      <td>0.507933</td>\n",
              "    </tr>\n",
              "    <tr>\n",
              "      <th>1</th>\n",
              "      <td>0.637076</td>\n",
              "      <td>0.484295</td>\n",
              "    </tr>\n",
              "    <tr>\n",
              "      <th>2</th>\n",
              "      <td>0.484769</td>\n",
              "      <td>0.537480</td>\n",
              "    </tr>\n",
              "    <tr>\n",
              "      <th>3</th>\n",
              "      <td>0.584856</td>\n",
              "      <td>0.466567</td>\n",
              "    </tr>\n",
              "    <tr>\n",
              "      <th>4</th>\n",
              "      <td>0.416014</td>\n",
              "      <td>0.454748</td>\n",
              "    </tr>\n",
              "    <tr>\n",
              "      <th>5</th>\n",
              "      <td>0.762402</td>\n",
              "      <td>0.413382</td>\n",
              "    </tr>\n",
              "    <tr>\n",
              "      <th>6</th>\n",
              "      <td>0.563098</td>\n",
              "      <td>0.513842</td>\n",
              "    </tr>\n",
              "    <tr>\n",
              "      <th>7</th>\n",
              "      <td>0.750218</td>\n",
              "      <td>0.490204</td>\n",
              "    </tr>\n",
              "    <tr>\n",
              "      <th>8</th>\n",
              "      <td>0.181027</td>\n",
              "      <td>0.431110</td>\n",
              "    </tr>\n",
              "    <tr>\n",
              "      <th>9</th>\n",
              "      <td>0.673629</td>\n",
              "      <td>0.525661</td>\n",
              "    </tr>\n",
              "  </tbody>\n",
              "</table>\n",
              "</div>\n",
              "      <button class=\"colab-df-convert\" onclick=\"convertToInteractive('df-8a7e91fa-4c4b-47f8-9808-48221e1eeebc')\"\n",
              "              title=\"Convert this dataframe to an interactive table.\"\n",
              "              style=\"display:none;\">\n",
              "        \n",
              "  <svg xmlns=\"http://www.w3.org/2000/svg\" height=\"24px\"viewBox=\"0 0 24 24\"\n",
              "       width=\"24px\">\n",
              "    <path d=\"M0 0h24v24H0V0z\" fill=\"none\"/>\n",
              "    <path d=\"M18.56 5.44l.94 2.06.94-2.06 2.06-.94-2.06-.94-.94-2.06-.94 2.06-2.06.94zm-11 1L8.5 8.5l.94-2.06 2.06-.94-2.06-.94L8.5 2.5l-.94 2.06-2.06.94zm10 10l.94 2.06.94-2.06 2.06-.94-2.06-.94-.94-2.06-.94 2.06-2.06.94z\"/><path d=\"M17.41 7.96l-1.37-1.37c-.4-.4-.92-.59-1.43-.59-.52 0-1.04.2-1.43.59L10.3 9.45l-7.72 7.72c-.78.78-.78 2.05 0 2.83L4 21.41c.39.39.9.59 1.41.59.51 0 1.02-.2 1.41-.59l7.78-7.78 2.81-2.81c.8-.78.8-2.07 0-2.86zM5.41 20L4 18.59l7.72-7.72 1.47 1.35L5.41 20z\"/>\n",
              "  </svg>\n",
              "      </button>\n",
              "      \n",
              "  <style>\n",
              "    .colab-df-container {\n",
              "      display:flex;\n",
              "      flex-wrap:wrap;\n",
              "      gap: 12px;\n",
              "    }\n",
              "\n",
              "    .colab-df-convert {\n",
              "      background-color: #E8F0FE;\n",
              "      border: none;\n",
              "      border-radius: 50%;\n",
              "      cursor: pointer;\n",
              "      display: none;\n",
              "      fill: #1967D2;\n",
              "      height: 32px;\n",
              "      padding: 0 0 0 0;\n",
              "      width: 32px;\n",
              "    }\n",
              "\n",
              "    .colab-df-convert:hover {\n",
              "      background-color: #E2EBFA;\n",
              "      box-shadow: 0px 1px 2px rgba(60, 64, 67, 0.3), 0px 1px 3px 1px rgba(60, 64, 67, 0.15);\n",
              "      fill: #174EA6;\n",
              "    }\n",
              "\n",
              "    [theme=dark] .colab-df-convert {\n",
              "      background-color: #3B4455;\n",
              "      fill: #D2E3FC;\n",
              "    }\n",
              "\n",
              "    [theme=dark] .colab-df-convert:hover {\n",
              "      background-color: #434B5C;\n",
              "      box-shadow: 0px 1px 3px 1px rgba(0, 0, 0, 0.15);\n",
              "      filter: drop-shadow(0px 1px 2px rgba(0, 0, 0, 0.3));\n",
              "      fill: #FFFFFF;\n",
              "    }\n",
              "  </style>\n",
              "\n",
              "      <script>\n",
              "        const buttonEl =\n",
              "          document.querySelector('#df-8a7e91fa-4c4b-47f8-9808-48221e1eeebc button.colab-df-convert');\n",
              "        buttonEl.style.display =\n",
              "          google.colab.kernel.accessAllowed ? 'block' : 'none';\n",
              "\n",
              "        async function convertToInteractive(key) {\n",
              "          const element = document.querySelector('#df-8a7e91fa-4c4b-47f8-9808-48221e1eeebc');\n",
              "          const dataTable =\n",
              "            await google.colab.kernel.invokeFunction('convertToInteractive',\n",
              "                                                     [key], {});\n",
              "          if (!dataTable) return;\n",
              "\n",
              "          const docLinkHtml = 'Like what you see? Visit the ' +\n",
              "            '<a target=\"_blank\" href=https://colab.research.google.com/notebooks/data_table.ipynb>data table notebook</a>'\n",
              "            + ' to learn more about interactive tables.';\n",
              "          element.innerHTML = '';\n",
              "          dataTable['output_type'] = 'display_data';\n",
              "          await google.colab.output.renderOutput(dataTable, element);\n",
              "          const docLink = document.createElement('div');\n",
              "          docLink.innerHTML = docLinkHtml;\n",
              "          element.appendChild(docLink);\n",
              "        }\n",
              "      </script>\n",
              "    </div>\n",
              "  </div>\n",
              "  "
            ]
          },
          "metadata": {},
          "execution_count": 52
        }
      ]
    },
    {
      "cell_type": "code",
      "source": [
        "evaluasi.head(10).plot(kind='bar')"
      ],
      "metadata": {
        "colab": {
          "base_uri": "https://localhost:8080/",
          "height": 283
        },
        "id": "rv1yllRpLJyN",
        "outputId": "9fcbc07c-bf9f-44da-af84-60a4368e3b15"
      },
      "execution_count": null,
      "outputs": [
        {
          "output_type": "execute_result",
          "data": {
            "text/plain": [
              "<matplotlib.axes._subplots.AxesSubplot at 0x7f1f4b00c510>"
            ]
          },
          "metadata": {},
          "execution_count": 53
        },
        {
          "output_type": "display_data",
          "data": {
            "text/plain": [
              "<Figure size 432x288 with 1 Axes>"
            ],
            "image/png": "[encoded data removed]"
          },
          "metadata": {
            "needs_background": "light"
          }
        }
      ]
    },
    {
      "cell_type": "code",
      "source": [
        "from sklearn.metrics import mean_squared_error\n",
        "print(mean_squared_error (y_test, y_predict))"
      ],
      "metadata": {
        "colab": {
          "base_uri": "https://localhost:8080/"
        },
        "id": "CsjGtyi7L0bl",
        "outputId": "75debaff-8428-4a27-cbbb-f63fee2a853c"
      },
      "execution_count": null,
      "outputs": [
        {
          "output_type": "stream",
          "name": "stdout",
          "text": [
            "0.03914866515077359\n"
          ]
        }
      ]
    },
    {
      "cell_type": "markdown",
      "source": [
        "# Gradio"
      ],
      "metadata": {
        "id": "rAo8MDGwLNYt"
      }
    },
    {
      "cell_type": "code",
      "source": [
        "pip install gradio"
      ],
      "metadata": {
        "id": "faguYxe9LMyj"
      },
      "execution_count": null,
      "outputs": []
    },
    {
      "cell_type": "code",
      "source": [
        "import gradio as gr\n",
        "\n",
        "def predict(PhysicalAtk, WinRate):\n",
        "    return otak.predict([[PhysicalAtk, WinRate]])[0][0]\n",
        "\n",
        "demo = gr.Interface(predict, \n",
        "                    [gr.Number(label=\"PhysicalAtk\"), gr.Number(label=\"WinRate\")], \n",
        "                    gr.Number())\n",
        "\n",
        "demo.launch()"
      ],
      "metadata": {
        "colab": {
          "base_uri": "https://localhost:8080/",
          "height": 643
        },
        "id": "nYdc_PICL8NZ",
        "outputId": "62c94d0d-09cb-43c1-b871-997faf6980b8"
      },
      "execution_count": null,
      "outputs": [
        {
          "output_type": "stream",
          "name": "stdout",
          "text": [
            "Colab notebook detected. To show errors in colab notebook, set `debug=True` in `launch()`\n",
            "Running on public URL: https://15065.gradio.app\n",
            "\n",
            "This share link expires in 72 hours. For free permanent hosting, check out Spaces (https://huggingface.co/spaces)\n"
          ]
        },
        {
          "output_type": "display_data",
          "data": {
            "text/plain": [
              "<IPython.lib.display.IFrame at 0x7f1f4135ae90>"
            ],
            "text/html": [
              "\n",
              "        <iframe\n",
              "            width=\"900\"\n",
              "            height=\"500\"\n",
              "            src=\"https://15065.gradio.app\"\n",
              "            frameborder=\"0\"\n",
              "            allowfullscreen\n",
              "        ></iframe>\n",
              "        "
            ]
          },
          "metadata": {}
        },
        {
          "output_type": "execute_result",
          "data": {
            "text/plain": [
              "(<gradio.routes.App at 0x7f1f42c88750>,\n",
              " 'http://127.0.0.1:7862/',\n",
              " 'https://15065.gradio.app')"
            ]
          },
          "metadata": {},
          "execution_count": 59
        }
      ]
    }
  ]
}