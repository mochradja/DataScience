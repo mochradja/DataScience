{
  "nbformat": 4,
  "nbformat_minor": 0,
  "metadata": {
    "colab": {
      "provenance": [],
      "authorship_tag": "ABX9TyM+pDO19dNANQQjSMCaPMHa",
      "include_colab_link": true
    },
    "kernelspec": {
      "name": "python3",
      "display_name": "Python 3"
    },
    "language_info": {
      "name": "python"
    }
  },
  "cells": [
    {
      "cell_type": "markdown",
      "metadata": {
        "id": "view-in-github",
        "colab_type": "text"
      },
      "source": [
        "<a href=\"https://colab.research.google.com/github/mochradja/DataScience/blob/main/movies_metadata.ipynb\" target=\"_parent\"><img src=\"https://colab.research.google.com/assets/colab-badge.svg\" alt=\"Open In Colab\"/></a>"
      ]
    },
    {
      "cell_type": "code",
      "execution_count": null,
      "metadata": {
        "id": "_s9rp3rFnuJX"
      },
      "outputs": [],
      "source": [
        "import pandas as pd\n",
        "import numpy as np\n",
        "import seaborn as sns\n",
        "import matplotlib.pyplot as plt"
      ]
    },
    {
      "cell_type": "code",
      "source": [
        "data = pd.read_csv('sample_data/movies_metadata.csv')\n",
        "data"
      ],
      "metadata": {
        "id": "XubZ3httn9Rs",
        "colab": {
          "base_uri": "https://localhost:8080/",
          "height": 1000
        },
        "outputId": "28f4dc3b-4ac4-435d-dcc4-6ce3186ca36f"
      },
      "execution_count": null,
      "outputs": [
        {
          "output_type": "execute_result",
          "data": {
            "text/plain": [
              "      adult                              belongs_to_collection    budget  \\\n",
              "0     False  {'id': 10194, 'name': 'Toy Story Collection', ...  30000000   \n",
              "1     False                                                NaN  65000000   \n",
              "2     False  {'id': 119050, 'name': 'Grumpy Old Men Collect...         0   \n",
              "3     False                                                NaN  16000000   \n",
              "4     False  {'id': 96871, 'name': 'Father of the Bride Col...         0   \n",
              "...     ...                                                ...       ...   \n",
              "8960  False  {'id': 287016, 'name': \"Wong Kar-Wai's Informa...         0   \n",
              "8961  False                                                NaN         0   \n",
              "8962  False  {'id': 476066, 'name': 'Begotten Collection', ...     33000   \n",
              "8963  False                                                NaN         0   \n",
              "8964  False                                                NaN         0   \n",
              "\n",
              "                                                 genres  \\\n",
              "0     [{'id': 16, 'name': 'Animation'}, {'id': 35, '...   \n",
              "1     [{'id': 12, 'name': 'Adventure'}, {'id': 14, '...   \n",
              "2     [{'id': 10749, 'name': 'Romance'}, {'id': 35, ...   \n",
              "3     [{'id': 35, 'name': 'Comedy'}, {'id': 18, 'nam...   \n",
              "4                        [{'id': 35, 'name': 'Comedy'}]   \n",
              "...                                                 ...   \n",
              "8960  [{'id': 80, 'name': 'Crime'}, {'id': 18, 'name...   \n",
              "8961                      [{'id': 18, 'name': 'Drama'}]   \n",
              "8962  [{'id': 14, 'name': 'Fantasy'}, {'id': 27, 'na...   \n",
              "8963  [{'id': 18, 'name': 'Drama'}, {'id': 10769, 'n...   \n",
              "8964                      [{'id': 18, 'name': 'Drama'}]   \n",
              "\n",
              "                                  homepage     id    imdb_id  \\\n",
              "0     http://toystory.disney.com/toy-story    862  tt0114709   \n",
              "1                                      NaN   8844  tt0113497   \n",
              "2                                      NaN  15602  tt0113228   \n",
              "3                                      NaN  31357  tt0114885   \n",
              "4                                      NaN  11862  tt0113041   \n",
              "...                                    ...    ...        ...   \n",
              "8960  http://www.kino.com/daysofbeingwild/  18311  tt0101258   \n",
              "8961                                   NaN  48448  tt0101268   \n",
              "8962                                   NaN   1483  tt0101420   \n",
              "8963                                   NaN  41783  tt0101440   \n",
              "8964                                   NaN  28553  tt0101531   \n",
              "\n",
              "     original_language               original_title  \\\n",
              "0                   en                    Toy Story   \n",
              "1                   en                      Jumanji   \n",
              "2                   en             Grumpier Old Men   \n",
              "3                   en            Waiting to Exhale   \n",
              "4                   en  Father of the Bride Part II   \n",
              "...                ...                          ...   \n",
              "8960                cn                         阿飛正傳   \n",
              "8961                en            Across the Tracks   \n",
              "8962                en                     Begotten   \n",
              "8963                zh          Bian zou bian chang   \n",
              "8964                en                      Cadence   \n",
              "\n",
              "                                               overview  ...  release_date  \\\n",
              "0     Led by Woody, Andy's toys live happily in his ...  ...    1995-10-30   \n",
              "1     When siblings Judy and Peter discover an encha...  ...    1995-12-15   \n",
              "2     A family wedding reignites the ancient feud be...  ...    1995-12-22   \n",
              "3     Cheated on, mistreated and stepped on, the wom...  ...    1995-12-22   \n",
              "4     Just when George Banks has recovered from his ...  ...    1995-02-10   \n",
              "...                                                 ...  ...           ...   \n",
              "8960  The movie is set in Hong Kong and the Philippi...  ...    1990-12-15   \n",
              "8961  When Billy returns from reform school he has t...  ...    1991-02-14   \n",
              "8962  Begotten is the creation myth brought to life,...  ...    1990-04-30   \n",
              "8963  Two blind men pursue ephemeral and unlikely ho...  ...    1991-09-08   \n",
              "8964  As punishment for drunken, rebellious behavior...  ...    1990-11-16   \n",
              "\n",
              "        revenue runtime                                   spoken_languages  \\\n",
              "0     373554033    81.0           [{'iso_639_1': 'en', 'name': 'English'}]   \n",
              "1     262797249   104.0  [{'iso_639_1': 'en', 'name': 'English'}, {'iso...   \n",
              "2             0   101.0           [{'iso_639_1': 'en', 'name': 'English'}]   \n",
              "3      81452156   127.0           [{'iso_639_1': 'en', 'name': 'English'}]   \n",
              "4      76578911   106.0           [{'iso_639_1': 'en', 'name': 'English'}]   \n",
              "...         ...     ...                                                ...   \n",
              "8960     141864    91.0  [{'iso_639_1': 'cn', 'name': '广州话 / 廣州話'}, {'i...   \n",
              "8961          0   100.0           [{'iso_639_1': 'en', 'name': 'English'}]   \n",
              "8962          0    78.0           [{'iso_639_1': 'en', 'name': 'English'}]   \n",
              "8963          0   110.0               [{'iso_639_1': 'zh', 'name': '普通话'}]   \n",
              "8964          0    97.0           [{'iso_639_1': 'en', 'name': 'English'}]   \n",
              "\n",
              "        status                                            tagline  \\\n",
              "0     Released                                                NaN   \n",
              "1     Released          Roll the dice and unleash the excitement!   \n",
              "2     Released  Still Yelling. Still Fighting. Still Ready for...   \n",
              "3     Released  Friends are the people who let you be yourself...   \n",
              "4     Released  Just When His World Is Back To Normal... He's ...   \n",
              "...        ...                                                ...   \n",
              "8960  Released                                                NaN   \n",
              "8961  Released                                                NaN   \n",
              "8962  Released                                                NaN   \n",
              "8963  Released                                                NaN   \n",
              "8964  Released                                            Sometim   \n",
              "\n",
              "                            title  video vote_average vote_count  \n",
              "0                       Toy Story  False          7.7     5415.0  \n",
              "1                         Jumanji  False          6.9     2413.0  \n",
              "2                Grumpier Old Men  False          6.5       92.0  \n",
              "3               Waiting to Exhale  False          6.1       34.0  \n",
              "4     Father of the Bride Part II  False          5.7      173.0  \n",
              "...                           ...    ...          ...        ...  \n",
              "8960           Days of Being Wild  False          7.3       85.0  \n",
              "8961            Across the Tracks  False          5.5       17.0  \n",
              "8962                     Begotten  False          5.0       64.0  \n",
              "8963             Life on a String  False          7.0        2.0  \n",
              "8964                          NaN    NaN          NaN        NaN  \n",
              "\n",
              "[8965 rows x 24 columns]"
            ],
            "text/html": [
              "\n",
              "  <div id=\"df-6fcf3c5e-d8a5-41df-a890-adc619679766\">\n",
              "    <div class=\"colab-df-container\">\n",
              "      <div>\n",
              "<style scoped>\n",
              "    .dataframe tbody tr th:only-of-type {\n",
              "        vertical-align: middle;\n",
              "    }\n",
              "\n",
              "    .dataframe tbody tr th {\n",
              "        vertical-align: top;\n",
              "    }\n",
              "\n",
              "    .dataframe thead th {\n",
              "        text-align: right;\n",
              "    }\n",
              "</style>\n",
              "<table border=\"1\" class=\"dataframe\">\n",
              "  <thead>\n",
              "    <tr style=\"text-align: right;\">\n",
              "      <th></th>\n",
              "      <th>adult</th>\n",
              "      <th>belongs_to_collection</th>\n",
              "      <th>budget</th>\n",
              "      <th>genres</th>\n",
              "      <th>homepage</th>\n",
              "      <th>id</th>\n",
              "      <th>imdb_id</th>\n",
              "      <th>original_language</th>\n",
              "      <th>original_title</th>\n",
              "      <th>overview</th>\n",
              "      <th>...</th>\n",
              "      <th>release_date</th>\n",
              "      <th>revenue</th>\n",
              "      <th>runtime</th>\n",
              "      <th>spoken_languages</th>\n",
              "      <th>status</th>\n",
              "      <th>tagline</th>\n",
              "      <th>title</th>\n",
              "      <th>video</th>\n",
              "      <th>vote_average</th>\n",
              "      <th>vote_count</th>\n",
              "    </tr>\n",
              "  </thead>\n",
              "  <tbody>\n",
              "    <tr>\n",
              "      <th>0</th>\n",
              "      <td>False</td>\n",
              "      <td>{'id': 10194, 'name': 'Toy Story Collection', ...</td>\n",
              "      <td>30000000</td>\n",
              "      <td>[{'id': 16, 'name': 'Animation'}, {'id': 35, '...</td>\n",
              "      <td>http://toystory.disney.com/toy-story</td>\n",
              "      <td>862</td>\n",
              "      <td>tt0114709</td>\n",
              "      <td>en</td>\n",
              "      <td>Toy Story</td>\n",
              "      <td>Led by Woody, Andy's toys live happily in his ...</td>\n",
              "      <td>...</td>\n",
              "      <td>1995-10-30</td>\n",
              "      <td>373554033</td>\n",
              "      <td>81.0</td>\n",
              "      <td>[{'iso_639_1': 'en', 'name': 'English'}]</td>\n",
              "      <td>Released</td>\n",
              "      <td>NaN</td>\n",
              "      <td>Toy Story</td>\n",
              "      <td>False</td>\n",
              "      <td>7.7</td>\n",
              "      <td>5415.0</td>\n",
              "    </tr>\n",
              "    <tr>\n",
              "      <th>1</th>\n",
              "      <td>False</td>\n",
              "      <td>NaN</td>\n",
              "      <td>65000000</td>\n",
              "      <td>[{'id': 12, 'name': 'Adventure'}, {'id': 14, '...</td>\n",
              "      <td>NaN</td>\n",
              "      <td>8844</td>\n",
              "      <td>tt0113497</td>\n",
              "      <td>en</td>\n",
              "      <td>Jumanji</td>\n",
              "      <td>When siblings Judy and Peter discover an encha...</td>\n",
              "      <td>...</td>\n",
              "      <td>1995-12-15</td>\n",
              "      <td>262797249</td>\n",
              "      <td>104.0</td>\n",
              "      <td>[{'iso_639_1': 'en', 'name': 'English'}, {'iso...</td>\n",
              "      <td>Released</td>\n",
              "      <td>Roll the dice and unleash the excitement!</td>\n",
              "      <td>Jumanji</td>\n",
              "      <td>False</td>\n",
              "      <td>6.9</td>\n",
              "      <td>2413.0</td>\n",
              "    </tr>\n",
              "    <tr>\n",
              "      <th>2</th>\n",
              "      <td>False</td>\n",
              "      <td>{'id': 119050, 'name': 'Grumpy Old Men Collect...</td>\n",
              "      <td>0</td>\n",
              "      <td>[{'id': 10749, 'name': 'Romance'}, {'id': 35, ...</td>\n",
              "      <td>NaN</td>\n",
              "      <td>15602</td>\n",
              "      <td>tt0113228</td>\n",
              "      <td>en</td>\n",
              "      <td>Grumpier Old Men</td>\n",
              "      <td>A family wedding reignites the ancient feud be...</td>\n",
              "      <td>...</td>\n",
              "      <td>1995-12-22</td>\n",
              "      <td>0</td>\n",
              "      <td>101.0</td>\n",
              "      <td>[{'iso_639_1': 'en', 'name': 'English'}]</td>\n",
              "      <td>Released</td>\n",
              "      <td>Still Yelling. Still Fighting. Still Ready for...</td>\n",
              "      <td>Grumpier Old Men</td>\n",
              "      <td>False</td>\n",
              "      <td>6.5</td>\n",
              "      <td>92.0</td>\n",
              "    </tr>\n",
              "    <tr>\n",
              "      <th>3</th>\n",
              "      <td>False</td>\n",
              "      <td>NaN</td>\n",
              "      <td>16000000</td>\n",
              "      <td>[{'id': 35, 'name': 'Comedy'}, {'id': 18, 'nam...</td>\n",
              "      <td>NaN</td>\n",
              "      <td>31357</td>\n",
              "      <td>tt0114885</td>\n",
              "      <td>en</td>\n",
              "      <td>Waiting to Exhale</td>\n",
              "      <td>Cheated on, mistreated and stepped on, the wom...</td>\n",
              "      <td>...</td>\n",
              "      <td>1995-12-22</td>\n",
              "      <td>81452156</td>\n",
              "      <td>127.0</td>\n",
              "      <td>[{'iso_639_1': 'en', 'name': 'English'}]</td>\n",
              "      <td>Released</td>\n",
              "      <td>Friends are the people who let you be yourself...</td>\n",
              "      <td>Waiting to Exhale</td>\n",
              "      <td>False</td>\n",
              "      <td>6.1</td>\n",
              "      <td>34.0</td>\n",
              "    </tr>\n",
              "    <tr>\n",
              "      <th>4</th>\n",
              "      <td>False</td>\n",
              "      <td>{'id': 96871, 'name': 'Father of the Bride Col...</td>\n",
              "      <td>0</td>\n",
              "      <td>[{'id': 35, 'name': 'Comedy'}]</td>\n",
              "      <td>NaN</td>\n",
              "      <td>11862</td>\n",
              "      <td>tt0113041</td>\n",
              "      <td>en</td>\n",
              "      <td>Father of the Bride Part II</td>\n",
              "      <td>Just when George Banks has recovered from his ...</td>\n",
              "      <td>...</td>\n",
              "      <td>1995-02-10</td>\n",
              "      <td>76578911</td>\n",
              "      <td>106.0</td>\n",
              "      <td>[{'iso_639_1': 'en', 'name': 'English'}]</td>\n",
              "      <td>Released</td>\n",
              "      <td>Just When His World Is Back To Normal... He's ...</td>\n",
              "      <td>Father of the Bride Part II</td>\n",
              "      <td>False</td>\n",
              "      <td>5.7</td>\n",
              "      <td>173.0</td>\n",
              "    </tr>\n",
              "    <tr>\n",
              "      <th>...</th>\n",
              "      <td>...</td>\n",
              "      <td>...</td>\n",
              "      <td>...</td>\n",
              "      <td>...</td>\n",
              "      <td>...</td>\n",
              "      <td>...</td>\n",
              "      <td>...</td>\n",
              "      <td>...</td>\n",
              "      <td>...</td>\n",
              "      <td>...</td>\n",
              "      <td>...</td>\n",
              "      <td>...</td>\n",
              "      <td>...</td>\n",
              "      <td>...</td>\n",
              "      <td>...</td>\n",
              "      <td>...</td>\n",
              "      <td>...</td>\n",
              "      <td>...</td>\n",
              "      <td>...</td>\n",
              "      <td>...</td>\n",
              "      <td>...</td>\n",
              "    </tr>\n",
              "    <tr>\n",
              "      <th>8960</th>\n",
              "      <td>False</td>\n",
              "      <td>{'id': 287016, 'name': \"Wong Kar-Wai's Informa...</td>\n",
              "      <td>0</td>\n",
              "      <td>[{'id': 80, 'name': 'Crime'}, {'id': 18, 'name...</td>\n",
              "      <td>http://www.kino.com/daysofbeingwild/</td>\n",
              "      <td>18311</td>\n",
              "      <td>tt0101258</td>\n",
              "      <td>cn</td>\n",
              "      <td>阿飛正傳</td>\n",
              "      <td>The movie is set in Hong Kong and the Philippi...</td>\n",
              "      <td>...</td>\n",
              "      <td>1990-12-15</td>\n",
              "      <td>141864</td>\n",
              "      <td>91.0</td>\n",
              "      <td>[{'iso_639_1': 'cn', 'name': '广州话 / 廣州話'}, {'i...</td>\n",
              "      <td>Released</td>\n",
              "      <td>NaN</td>\n",
              "      <td>Days of Being Wild</td>\n",
              "      <td>False</td>\n",
              "      <td>7.3</td>\n",
              "      <td>85.0</td>\n",
              "    </tr>\n",
              "    <tr>\n",
              "      <th>8961</th>\n",
              "      <td>False</td>\n",
              "      <td>NaN</td>\n",
              "      <td>0</td>\n",
              "      <td>[{'id': 18, 'name': 'Drama'}]</td>\n",
              "      <td>NaN</td>\n",
              "      <td>48448</td>\n",
              "      <td>tt0101268</td>\n",
              "      <td>en</td>\n",
              "      <td>Across the Tracks</td>\n",
              "      <td>When Billy returns from reform school he has t...</td>\n",
              "      <td>...</td>\n",
              "      <td>1991-02-14</td>\n",
              "      <td>0</td>\n",
              "      <td>100.0</td>\n",
              "      <td>[{'iso_639_1': 'en', 'name': 'English'}]</td>\n",
              "      <td>Released</td>\n",
              "      <td>NaN</td>\n",
              "      <td>Across the Tracks</td>\n",
              "      <td>False</td>\n",
              "      <td>5.5</td>\n",
              "      <td>17.0</td>\n",
              "    </tr>\n",
              "    <tr>\n",
              "      <th>8962</th>\n",
              "      <td>False</td>\n",
              "      <td>{'id': 476066, 'name': 'Begotten Collection', ...</td>\n",
              "      <td>33000</td>\n",
              "      <td>[{'id': 14, 'name': 'Fantasy'}, {'id': 27, 'na...</td>\n",
              "      <td>NaN</td>\n",
              "      <td>1483</td>\n",
              "      <td>tt0101420</td>\n",
              "      <td>en</td>\n",
              "      <td>Begotten</td>\n",
              "      <td>Begotten is the creation myth brought to life,...</td>\n",
              "      <td>...</td>\n",
              "      <td>1990-04-30</td>\n",
              "      <td>0</td>\n",
              "      <td>78.0</td>\n",
              "      <td>[{'iso_639_1': 'en', 'name': 'English'}]</td>\n",
              "      <td>Released</td>\n",
              "      <td>NaN</td>\n",
              "      <td>Begotten</td>\n",
              "      <td>False</td>\n",
              "      <td>5.0</td>\n",
              "      <td>64.0</td>\n",
              "    </tr>\n",
              "    <tr>\n",
              "      <th>8963</th>\n",
              "      <td>False</td>\n",
              "      <td>NaN</td>\n",
              "      <td>0</td>\n",
              "      <td>[{'id': 18, 'name': 'Drama'}, {'id': 10769, 'n...</td>\n",
              "      <td>NaN</td>\n",
              "      <td>41783</td>\n",
              "      <td>tt0101440</td>\n",
              "      <td>zh</td>\n",
              "      <td>Bian zou bian chang</td>\n",
              "      <td>Two blind men pursue ephemeral and unlikely ho...</td>\n",
              "      <td>...</td>\n",
              "      <td>1991-09-08</td>\n",
              "      <td>0</td>\n",
              "      <td>110.0</td>\n",
              "      <td>[{'iso_639_1': 'zh', 'name': '普通话'}]</td>\n",
              "      <td>Released</td>\n",
              "      <td>NaN</td>\n",
              "      <td>Life on a String</td>\n",
              "      <td>False</td>\n",
              "      <td>7.0</td>\n",
              "      <td>2.0</td>\n",
              "    </tr>\n",
              "    <tr>\n",
              "      <th>8964</th>\n",
              "      <td>False</td>\n",
              "      <td>NaN</td>\n",
              "      <td>0</td>\n",
              "      <td>[{'id': 18, 'name': 'Drama'}]</td>\n",
              "      <td>NaN</td>\n",
              "      <td>28553</td>\n",
              "      <td>tt0101531</td>\n",
              "      <td>en</td>\n",
              "      <td>Cadence</td>\n",
              "      <td>As punishment for drunken, rebellious behavior...</td>\n",
              "      <td>...</td>\n",
              "      <td>1990-11-16</td>\n",
              "      <td>0</td>\n",
              "      <td>97.0</td>\n",
              "      <td>[{'iso_639_1': 'en', 'name': 'English'}]</td>\n",
              "      <td>Released</td>\n",
              "      <td>Sometim</td>\n",
              "      <td>NaN</td>\n",
              "      <td>NaN</td>\n",
              "      <td>NaN</td>\n",
              "      <td>NaN</td>\n",
              "    </tr>\n",
              "  </tbody>\n",
              "</table>\n",
              "<p>8965 rows × 24 columns</p>\n",
              "</div>\n",
              "      <button class=\"colab-df-convert\" onclick=\"convertToInteractive('df-6fcf3c5e-d8a5-41df-a890-adc619679766')\"\n",
              "              title=\"Convert this dataframe to an interactive table.\"\n",
              "              style=\"display:none;\">\n",
              "        \n",
              "  <svg xmlns=\"http://www.w3.org/2000/svg\" height=\"24px\"viewBox=\"0 0 24 24\"\n",
              "       width=\"24px\">\n",
              "    <path d=\"M0 0h24v24H0V0z\" fill=\"none\"/>\n",
              "    <path d=\"M18.56 5.44l.94 2.06.94-2.06 2.06-.94-2.06-.94-.94-2.06-.94 2.06-2.06.94zm-11 1L8.5 8.5l.94-2.06 2.06-.94-2.06-.94L8.5 2.5l-.94 2.06-2.06.94zm10 10l.94 2.06.94-2.06 2.06-.94-2.06-.94-.94-2.06-.94 2.06-2.06.94z\"/><path d=\"M17.41 7.96l-1.37-1.37c-.4-.4-.92-.59-1.43-.59-.52 0-1.04.2-1.43.59L10.3 9.45l-7.72 7.72c-.78.78-.78 2.05 0 2.83L4 21.41c.39.39.9.59 1.41.59.51 0 1.02-.2 1.41-.59l7.78-7.78 2.81-2.81c.8-.78.8-2.07 0-2.86zM5.41 20L4 18.59l7.72-7.72 1.47 1.35L5.41 20z\"/>\n",
              "  </svg>\n",
              "      </button>\n",
              "      \n",
              "  <style>\n",
              "    .colab-df-container {\n",
              "      display:flex;\n",
              "      flex-wrap:wrap;\n",
              "      gap: 12px;\n",
              "    }\n",
              "\n",
              "    .colab-df-convert {\n",
              "      background-color: #E8F0FE;\n",
              "      border: none;\n",
              "      border-radius: 50%;\n",
              "      cursor: pointer;\n",
              "      display: none;\n",
              "      fill: #1967D2;\n",
              "      height: 32px;\n",
              "      padding: 0 0 0 0;\n",
              "      width: 32px;\n",
              "    }\n",
              "\n",
              "    .colab-df-convert:hover {\n",
              "      background-color: #E2EBFA;\n",
              "      box-shadow: 0px 1px 2px rgba(60, 64, 67, 0.3), 0px 1px 3px 1px rgba(60, 64, 67, 0.15);\n",
              "      fill: #174EA6;\n",
              "    }\n",
              "\n",
              "    [theme=dark] .colab-df-convert {\n",
              "      background-color: #3B4455;\n",
              "      fill: #D2E3FC;\n",
              "    }\n",
              "\n",
              "    [theme=dark] .colab-df-convert:hover {\n",
              "      background-color: #434B5C;\n",
              "      box-shadow: 0px 1px 3px 1px rgba(0, 0, 0, 0.15);\n",
              "      filter: drop-shadow(0px 1px 2px rgba(0, 0, 0, 0.3));\n",
              "      fill: #FFFFFF;\n",
              "    }\n",
              "  </style>\n",
              "\n",
              "      <script>\n",
              "        const buttonEl =\n",
              "          document.querySelector('#df-6fcf3c5e-d8a5-41df-a890-adc619679766 button.colab-df-convert');\n",
              "        buttonEl.style.display =\n",
              "          google.colab.kernel.accessAllowed ? 'block' : 'none';\n",
              "\n",
              "        async function convertToInteractive(key) {\n",
              "          const element = document.querySelector('#df-6fcf3c5e-d8a5-41df-a890-adc619679766');\n",
              "          const dataTable =\n",
              "            await google.colab.kernel.invokeFunction('convertToInteractive',\n",
              "                                                     [key], {});\n",
              "          if (!dataTable) return;\n",
              "\n",
              "          const docLinkHtml = 'Like what you see? Visit the ' +\n",
              "            '<a target=\"_blank\" href=https://colab.research.google.com/notebooks/data_table.ipynb>data table notebook</a>'\n",
              "            + ' to learn more about interactive tables.';\n",
              "          element.innerHTML = '';\n",
              "          dataTable['output_type'] = 'display_data';\n",
              "          await google.colab.output.renderOutput(dataTable, element);\n",
              "          const docLink = document.createElement('div');\n",
              "          docLink.innerHTML = docLinkHtml;\n",
              "          element.appendChild(docLink);\n",
              "        }\n",
              "      </script>\n",
              "    </div>\n",
              "  </div>\n",
              "  "
            ]
          },
          "metadata": {},
          "execution_count": 9
        }
      ]
    },
    {
      "cell_type": "code",
      "source": [
        "data.info()"
      ],
      "metadata": {
        "colab": {
          "base_uri": "https://localhost:8080/"
        },
        "id": "WRKOHJEdoaHi",
        "outputId": "72411f12-cf37-4383-ab7c-d6b1fc870f48"
      },
      "execution_count": null,
      "outputs": [
        {
          "output_type": "stream",
          "name": "stdout",
          "text": [
            "<class 'pandas.core.frame.DataFrame'>\n",
            "RangeIndex: 8965 entries, 0 to 8964\n",
            "Data columns (total 24 columns):\n",
            " #   Column                 Non-Null Count  Dtype  \n",
            "---  ------                 --------------  -----  \n",
            " 0   adult                  8965 non-null   bool   \n",
            " 1   belongs_to_collection  1273 non-null   object \n",
            " 2   budget                 8965 non-null   int64  \n",
            " 3   genres                 8965 non-null   object \n",
            " 4   homepage               565 non-null    object \n",
            " 5   id                     8965 non-null   int64  \n",
            " 6   imdb_id                8965 non-null   object \n",
            " 7   original_language      8965 non-null   object \n",
            " 8   original_title         8965 non-null   object \n",
            " 9   overview               8940 non-null   object \n",
            " 10  popularity             8965 non-null   float64\n",
            " 11  poster_path            8934 non-null   object \n",
            " 12  production_companies   8965 non-null   object \n",
            " 13  production_countries   8965 non-null   object \n",
            " 14  release_date           8960 non-null   object \n",
            " 15  revenue                8965 non-null   int64  \n",
            " 16  runtime                8959 non-null   float64\n",
            " 17  spoken_languages       8965 non-null   object \n",
            " 18  status                 8958 non-null   object \n",
            " 19  tagline                6378 non-null   object \n",
            " 20  title                  8964 non-null   object \n",
            " 21  video                  8964 non-null   object \n",
            " 22  vote_average           8964 non-null   float64\n",
            " 23  vote_count             8964 non-null   float64\n",
            "dtypes: bool(1), float64(4), int64(3), object(16)\n",
            "memory usage: 1.6+ MB\n"
          ]
        }
      ]
    },
    {
      "cell_type": "markdown",
      "source": [
        "# Menghapus kolom data yang tidak diperlukan"
      ],
      "metadata": {
        "id": "On7n6eG3sbbY"
      }
    },
    {
      "cell_type": "code",
      "source": [
        "del data['tagline']\n",
        "del data['homepage']\n",
        "del data['overview']\n",
        "del data['poster_path']\n",
        "# del data['runtime']\n",
        "del data['status']\n",
        "del data['belongs_to_collection']"
      ],
      "metadata": {
        "id": "CkN-3CsKo-fC"
      },
      "execution_count": null,
      "outputs": []
    },
    {
      "cell_type": "code",
      "source": [
        "data.info()"
      ],
      "metadata": {
        "colab": {
          "base_uri": "https://localhost:8080/"
        },
        "id": "So0JaPWvqGIX",
        "outputId": "38af6b83-2200-4dd0-e2e9-46ab90a8eb8f"
      },
      "execution_count": null,
      "outputs": [
        {
          "output_type": "stream",
          "name": "stdout",
          "text": [
            "<class 'pandas.core.frame.DataFrame'>\n",
            "RangeIndex: 8965 entries, 0 to 8964\n",
            "Data columns (total 18 columns):\n",
            " #   Column                Non-Null Count  Dtype  \n",
            "---  ------                --------------  -----  \n",
            " 0   adult                 8965 non-null   bool   \n",
            " 1   budget                8965 non-null   int64  \n",
            " 2   genres                8965 non-null   object \n",
            " 3   id                    8965 non-null   int64  \n",
            " 4   imdb_id               8965 non-null   object \n",
            " 5   original_language     8965 non-null   object \n",
            " 6   original_title        8965 non-null   object \n",
            " 7   popularity            8965 non-null   float64\n",
            " 8   production_companies  8965 non-null   object \n",
            " 9   production_countries  8965 non-null   object \n",
            " 10  release_date          8960 non-null   object \n",
            " 11  revenue               8965 non-null   int64  \n",
            " 12  runtime               8959 non-null   float64\n",
            " 13  spoken_languages      8965 non-null   object \n",
            " 14  title                 8964 non-null   object \n",
            " 15  video                 8964 non-null   object \n",
            " 16  vote_average          8964 non-null   float64\n",
            " 17  vote_count            8964 non-null   float64\n",
            "dtypes: bool(1), float64(4), int64(3), object(10)\n",
            "memory usage: 1.2+ MB\n"
          ]
        }
      ]
    },
    {
      "cell_type": "markdown",
      "source": [
        "# Melihat jumlah kolom yang kosong atau data yang rusak"
      ],
      "metadata": {
        "id": "OzhrqL4juXW2"
      }
    },
    {
      "cell_type": "code",
      "source": [
        "data.isna().sum()"
      ],
      "metadata": {
        "colab": {
          "base_uri": "https://localhost:8080/"
        },
        "id": "itNdr6A1sgRX",
        "outputId": "3d27d375-401e-4a84-bd96-74b8587f4880"
      },
      "execution_count": null,
      "outputs": [
        {
          "output_type": "execute_result",
          "data": {
            "text/plain": [
              "adult                   0\n",
              "budget                  0\n",
              "genres                  0\n",
              "id                      0\n",
              "imdb_id                 0\n",
              "original_language       0\n",
              "original_title          0\n",
              "popularity              0\n",
              "production_companies    0\n",
              "production_countries    0\n",
              "release_date            5\n",
              "revenue                 0\n",
              "runtime                 6\n",
              "spoken_languages        0\n",
              "title                   1\n",
              "video                   1\n",
              "vote_average            1\n",
              "vote_count              1\n",
              "dtype: int64"
            ]
          },
          "metadata": {},
          "execution_count": 13
        }
      ]
    },
    {
      "cell_type": "markdown",
      "source": [
        "# Clean vote_average"
      ],
      "metadata": {
        "id": "O7vDLID4r0hZ"
      }
    },
    {
      "cell_type": "code",
      "source": [
        "data['vote_average'].isna().value_counts()\n",
        "not_nan = data['vote_average'].isnull() == False\n",
        "data['vote_average'].loc[not_nan]\n",
        "\n",
        "vote = data['vote_average'].loc[data['vote_average'].isnull() == False]\n",
        "vote_mean = vote.mean()\n",
        "\n",
        "data['vote_average'] = data['vote_average'].fillna(vote_mean)\n",
        "data['vote_average'].head()"
      ],
      "metadata": {
        "colab": {
          "base_uri": "https://localhost:8080/"
        },
        "id": "Ls2fNvt0rzzU",
        "outputId": "ee9a6c4d-48eb-43c9-9f06-b9e82ae48afa"
      },
      "execution_count": null,
      "outputs": [
        {
          "output_type": "execute_result",
          "data": {
            "text/plain": [
              "0    7.7\n",
              "1    6.9\n",
              "2    6.5\n",
              "3    6.1\n",
              "4    5.7\n",
              "Name: vote_average, dtype: float64"
            ]
          },
          "metadata": {},
          "execution_count": 14
        }
      ]
    },
    {
      "cell_type": "code",
      "source": [
        "data['vote_average'].isnull().value_counts()"
      ],
      "metadata": {
        "colab": {
          "base_uri": "https://localhost:8080/"
        },
        "id": "IC8vcqaksKMB",
        "outputId": "a5ac4c73-b523-495e-835a-aeab9f3b8209"
      },
      "execution_count": null,
      "outputs": [
        {
          "output_type": "execute_result",
          "data": {
            "text/plain": [
              "False    8965\n",
              "Name: vote_average, dtype: int64"
            ]
          },
          "metadata": {},
          "execution_count": 16
        }
      ]
    },
    {
      "cell_type": "markdown",
      "source": [
        "# Clean vote_count"
      ],
      "metadata": {
        "id": "ueHygvbBskFU"
      }
    },
    {
      "cell_type": "code",
      "source": [
        "data['vote_count'].isna().value_counts()\n",
        "not_nan = data['vote_count'].isnull() == False\n",
        "data['vote_count'].loc[not_nan]\n",
        "\n",
        "votecount = data['vote_count'].loc[data['vote_count'].isnull() == False]\n",
        "votecount_mean = votecount.mean()\n",
        "\n",
        "data['vote_count'] = data['vote_count'].fillna(votecount_mean)\n",
        "data['vote_count'].head()"
      ],
      "metadata": {
        "colab": {
          "base_uri": "https://localhost:8080/"
        },
        "id": "LD4w_R0Lsm3d",
        "outputId": "7666b0ff-1142-4039-aff6-4d8c72cf63a2"
      },
      "execution_count": null,
      "outputs": [
        {
          "output_type": "execute_result",
          "data": {
            "text/plain": [
              "0    5415.0\n",
              "1    2413.0\n",
              "2      92.0\n",
              "3      34.0\n",
              "4     173.0\n",
              "Name: vote_count, dtype: float64"
            ]
          },
          "metadata": {},
          "execution_count": 15
        }
      ]
    },
    {
      "cell_type": "code",
      "source": [
        "data['vote_count'].isnull().value_counts()"
      ],
      "metadata": {
        "colab": {
          "base_uri": "https://localhost:8080/"
        },
        "id": "tg6tvmcys1g5",
        "outputId": "7e6a38a7-f911-4877-d429-bd05968a238f"
      },
      "execution_count": null,
      "outputs": [
        {
          "output_type": "execute_result",
          "data": {
            "text/plain": [
              "False    8965\n",
              "Name: vote_count, dtype: int64"
            ]
          },
          "metadata": {},
          "execution_count": 17
        }
      ]
    },
    {
      "cell_type": "markdown",
      "source": [
        "# Clean runtime"
      ],
      "metadata": {
        "id": "TXVxwCd8xF2O"
      }
    },
    {
      "cell_type": "code",
      "source": [
        "data['runtime'].isna().value_counts()\n",
        "not_nan = data['runtime'].isnull() == False\n",
        "data['runtime'].loc[not_nan]\n",
        "\n",
        "run = data['runtime'].loc[data['runtime'].isnull() == False]\n",
        "run_mean = run.mean()\n",
        "\n",
        "data['runtime'] = data['runtime'].fillna(run_mean)\n",
        "data['runtime'].head()"
      ],
      "metadata": {
        "colab": {
          "base_uri": "https://localhost:8080/"
        },
        "id": "JN-8Y-MgxIOt",
        "outputId": "13748764-fa5c-4735-87e5-078c89c2d565"
      },
      "execution_count": null,
      "outputs": [
        {
          "output_type": "execute_result",
          "data": {
            "text/plain": [
              "0     81.0\n",
              "1    104.0\n",
              "2    101.0\n",
              "3    127.0\n",
              "4    106.0\n",
              "Name: runtime, dtype: float64"
            ]
          },
          "metadata": {},
          "execution_count": 18
        }
      ]
    },
    {
      "cell_type": "code",
      "source": [
        "data['runtime'].isnull().value_counts()"
      ],
      "metadata": {
        "colab": {
          "base_uri": "https://localhost:8080/"
        },
        "id": "2H4Pszx-xUju",
        "outputId": "31bc4c5b-10e0-4264-f13b-cebec67e112e"
      },
      "execution_count": null,
      "outputs": [
        {
          "output_type": "execute_result",
          "data": {
            "text/plain": [
              "False    8965\n",
              "Name: runtime, dtype: int64"
            ]
          },
          "metadata": {},
          "execution_count": 19
        }
      ]
    },
    {
      "cell_type": "markdown",
      "source": [
        "# Memeriksa kolerasi"
      ],
      "metadata": {
        "id": "8oRmg6dlwJ4z"
      }
    },
    {
      "cell_type": "code",
      "source": [
        "sns.heatmap(data[['runtime', 'vote_average']].corr(), annot=True)"
      ],
      "metadata": {
        "colab": {
          "base_uri": "https://localhost:8080/",
          "height": 288
        },
        "id": "4neEfy2qwMGi",
        "outputId": "22114132-debe-4ced-f1b6-195ba3742d60"
      },
      "execution_count": null,
      "outputs": [
        {
          "output_type": "execute_result",
          "data": {
            "text/plain": [
              "<matplotlib.axes._subplots.AxesSubplot at 0x7fb496422250>"
            ]
          },
          "metadata": {},
          "execution_count": 20
        },
        {
          "output_type": "display_data",
          "data": {
            "text/plain": [
              "<Figure size 432x288 with 2 Axes>"
            ],
            "image/png": "[encoded data removed]"
          },
          "metadata": {
            "needs_background": "light"
          }
        }
      ]
    },
    {
      "cell_type": "code",
      "source": [
        "sns.heatmap(data[['runtime', 'vote_count']].corr(), annot=True)"
      ],
      "metadata": {
        "colab": {
          "base_uri": "https://localhost:8080/",
          "height": 288
        },
        "id": "GRngt2Kq_9IO",
        "outputId": "1258daf7-ee8c-49be-c617-d6cba8d9fcee"
      },
      "execution_count": null,
      "outputs": [
        {
          "output_type": "execute_result",
          "data": {
            "text/plain": [
              "<matplotlib.axes._subplots.AxesSubplot at 0x7fb493aff550>"
            ]
          },
          "metadata": {},
          "execution_count": 21
        },
        {
          "output_type": "display_data",
          "data": {
            "text/plain": [
              "<Figure size 432x288 with 2 Axes>"
            ],
            "image/png": "[encoded data removed]"
          },
          "metadata": {
            "needs_background": "light"
          }
        }
      ]
    },
    {
      "cell_type": "code",
      "source": [
        "sns.heatmap(data[['vote_average', 'vote_count']].corr(), annot=True)"
      ],
      "metadata": {
        "colab": {
          "base_uri": "https://localhost:8080/",
          "height": 288
        },
        "id": "9CmaOcsyBUzC",
        "outputId": "ede7a18a-cfcd-4c34-c4ae-46814906d235"
      },
      "execution_count": null,
      "outputs": [
        {
          "output_type": "execute_result",
          "data": {
            "text/plain": [
              "<matplotlib.axes._subplots.AxesSubplot at 0x7fb4935fcb10>"
            ]
          },
          "metadata": {},
          "execution_count": 22
        },
        {
          "output_type": "display_data",
          "data": {
            "text/plain": [
              "<Figure size 432x288 with 2 Axes>"
            ],
            "image/png": "[encoded data removed]"
          },
          "metadata": {
            "needs_background": "light"
          }
        }
      ]
    },
    {
      "cell_type": "code",
      "source": [
        "sns.lmplot(x='runtime', y='vote_average', data=data)"
      ],
      "metadata": {
        "colab": {
          "base_uri": "https://localhost:8080/",
          "height": 387
        },
        "id": "-1ETWRHTxv2L",
        "outputId": "dc69616a-7a75-44d9-caca-5f3bb1c87795"
      },
      "execution_count": null,
      "outputs": [
        {
          "output_type": "execute_result",
          "data": {
            "text/plain": [
              "<seaborn.axisgrid.FacetGrid at 0x7fb49352cf90>"
            ]
          },
          "metadata": {},
          "execution_count": 23
        },
        {
          "output_type": "display_data",
          "data": {
            "text/plain": [
              "<Figure size 360x360 with 1 Axes>"
            ],
            "image/png": "[encoded data removed]"
          },
          "metadata": {
            "needs_background": "light"
          }
        }
      ]
    },
    {
      "cell_type": "markdown",
      "source": [
        "# Proses melatih dan membuat konsep"
      ],
      "metadata": {
        "id": "jxHp2Q_wBUUC"
      }
    },
    {
      "cell_type": "code",
      "source": [
        "x = data[['runtime']]\n",
        "y = data[['vote_average']]"
      ],
      "metadata": {
        "id": "nSwiwiVcBY1l"
      },
      "execution_count": null,
      "outputs": []
    },
    {
      "cell_type": "markdown",
      "source": [
        "# Proses membandingkan dengan 70 : 30"
      ],
      "metadata": {
        "id": "hXh4ngD1Bb1X"
      }
    },
    {
      "cell_type": "code",
      "source": [
        "# Training data\n",
        "from sklearn.model_selection import train_test_split\n",
        "\n",
        "x_train, x_test, y_train, y_test = train_test_split(x, y, test_size = 0.3, random_state=10)"
      ],
      "metadata": {
        "id": "o4NOTi9BBgJg"
      },
      "execution_count": null,
      "outputs": []
    },
    {
      "cell_type": "code",
      "source": [
        "# Membuat model\n",
        "\n",
        "from sklearn.linear_model import LinearRegression\n",
        "\n",
        "data = LinearRegression()\n",
        "data.fit(x_train, y_train)"
      ],
      "metadata": {
        "colab": {
          "base_uri": "https://localhost:8080/"
        },
        "id": "8OMIuqYRBjae",
        "outputId": "f474a3ce-44ca-499f-e519-465e6697bad0"
      },
      "execution_count": null,
      "outputs": [
        {
          "output_type": "execute_result",
          "data": {
            "text/plain": [
              "LinearRegression()"
            ]
          },
          "metadata": {},
          "execution_count": 26
        }
      ]
    },
    {
      "cell_type": "markdown",
      "source": [
        "# Uji coba"
      ],
      "metadata": {
        "id": "l4aK0rT2Ck1F"
      }
    },
    {
      "cell_type": "code",
      "source": [
        "data.intercept_, data.coef_"
      ],
      "metadata": {
        "colab": {
          "base_uri": "https://localhost:8080/"
        },
        "id": "JqmZEPd3Cmv4",
        "outputId": "da46838a-416e-40a5-fd14-4338b7e0b60b"
      },
      "execution_count": null,
      "outputs": [
        {
          "output_type": "execute_result",
          "data": {
            "text/plain": [
              "(array([4.57335049]), array([[0.0147107]]))"
            ]
          },
          "metadata": {},
          "execution_count": 27
        }
      ]
    },
    {
      "cell_type": "code",
      "source": [
        "x = 95\n",
        "y = 0.0147107 + 4.57335049 * x\n",
        "print(y)"
      ],
      "metadata": {
        "colab": {
          "base_uri": "https://localhost:8080/"
        },
        "id": "hDbEcBdYCp-9",
        "outputId": "b8639304-4f76-4e76-d6bc-6a02caf4fd24"
      },
      "execution_count": null,
      "outputs": [
        {
          "output_type": "stream",
          "name": "stdout",
          "text": [
            "434.48300725\n"
          ]
        }
      ]
    },
    {
      "cell_type": "code",
      "source": [
        "y_pred = data.predict(x_test)\n",
        "plt.scatter(x_test, y_test)\n",
        "plt.plot(x_test, y_pred, c='y')\n",
        "plt.xlabel('runtime')\n",
        "plt.ylabel('vote_average')\n",
        "plt.title('runtime dan vote_average')"
      ],
      "metadata": {
        "colab": {
          "base_uri": "https://localhost:8080/",
          "height": 313
        },
        "id": "Fe8XLW_eC_D8",
        "outputId": "392c806e-099c-48a9-d849-b814b8eb0438"
      },
      "execution_count": null,
      "outputs": [
        {
          "output_type": "execute_result",
          "data": {
            "text/plain": [
              "Text(0.5, 1.0, 'runtime dan vote_average')"
            ]
          },
          "metadata": {},
          "execution_count": 29
        },
        {
          "output_type": "display_data",
          "data": {
            "text/plain": [
              "<Figure size 432x288 with 1 Axes>"
            ],
            "image/png": "[encoded data removed]"
          },
          "metadata": {
            "needs_background": "light"
          }
        }
      ]
    },
    {
      "cell_type": "markdown",
      "source": [
        "# Evaluasi model"
      ],
      "metadata": {
        "id": "_UNoVqxpDGu4"
      }
    },
    {
      "cell_type": "code",
      "source": [
        "data.score(x_test, y_test)"
      ],
      "metadata": {
        "colab": {
          "base_uri": "https://localhost:8080/"
        },
        "id": "ZIVoOV88DI1d",
        "outputId": "e3225675-3b97-4cf0-aec6-16061ae0962b"
      },
      "execution_count": null,
      "outputs": [
        {
          "output_type": "execute_result",
          "data": {
            "text/plain": [
              "0.06516824481766148"
            ]
          },
          "metadata": {},
          "execution_count": 30
        }
      ]
    },
    {
      "cell_type": "markdown",
      "source": [
        "# Perbandingan prediksi dan aktual"
      ],
      "metadata": {
        "id": "2l1D5eZJDRdA"
      }
    },
    {
      "cell_type": "code",
      "source": [
        "y_predict = data.predict(x_test)\n",
        "\n",
        "evaluasi = pd.DataFrame({\n",
        "    'runtime': y_test.values.flatten(),\n",
        "    'vote_average' : y_predict.flatten()\n",
        "    })\n",
        "\n",
        "evaluasi"
      ],
      "metadata": {
        "colab": {
          "base_uri": "https://localhost:8080/",
          "height": 424
        },
        "id": "moAvH5syDUqs",
        "outputId": "4d45ce33-9b60-4743-cd8c-22687f1d2dd1"
      },
      "execution_count": null,
      "outputs": [
        {
          "output_type": "execute_result",
          "data": {
            "text/plain": [
              "      runtime  vote_average\n",
              "0         6.2      6.441609\n",
              "1         6.6      6.265081\n",
              "2         6.7      5.926735\n",
              "3         6.7      5.750206\n",
              "4         5.9      5.985577\n",
              "...       ...           ...\n",
              "2685      6.4      5.970867\n",
              "2686      4.8      6.147395\n",
              "2687      6.7      6.441609\n",
              "2688      7.6      6.471031\n",
              "2689      7.4      6.544584\n",
              "\n",
              "[2690 rows x 2 columns]"
            ],
            "text/html": [
              "\n",
              "  <div id=\"df-9ba6e6a2-9219-4c23-9cb0-1da1477e13e9\">\n",
              "    <div class=\"colab-df-container\">\n",
              "      <div>\n",
              "<style scoped>\n",
              "    .dataframe tbody tr th:only-of-type {\n",
              "        vertical-align: middle;\n",
              "    }\n",
              "\n",
              "    .dataframe tbody tr th {\n",
              "        vertical-align: top;\n",
              "    }\n",
              "\n",
              "    .dataframe thead th {\n",
              "        text-align: right;\n",
              "    }\n",
              "</style>\n",
              "<table border=\"1\" class=\"dataframe\">\n",
              "  <thead>\n",
              "    <tr style=\"text-align: right;\">\n",
              "      <th></th>\n",
              "      <th>runtime</th>\n",
              "      <th>vote_average</th>\n",
              "    </tr>\n",
              "  </thead>\n",
              "  <tbody>\n",
              "    <tr>\n",
              "      <th>0</th>\n",
              "      <td>6.2</td>\n",
              "      <td>6.441609</td>\n",
              "    </tr>\n",
              "    <tr>\n",
              "      <th>1</th>\n",
              "      <td>6.6</td>\n",
              "      <td>6.265081</td>\n",
              "    </tr>\n",
              "    <tr>\n",
              "      <th>2</th>\n",
              "      <td>6.7</td>\n",
              "      <td>5.926735</td>\n",
              "    </tr>\n",
              "    <tr>\n",
              "      <th>3</th>\n",
              "      <td>6.7</td>\n",
              "      <td>5.750206</td>\n",
              "    </tr>\n",
              "    <tr>\n",
              "      <th>4</th>\n",
              "      <td>5.9</td>\n",
              "      <td>5.985577</td>\n",
              "    </tr>\n",
              "    <tr>\n",
              "      <th>...</th>\n",
              "      <td>...</td>\n",
              "      <td>...</td>\n",
              "    </tr>\n",
              "    <tr>\n",
              "      <th>2685</th>\n",
              "      <td>6.4</td>\n",
              "      <td>5.970867</td>\n",
              "    </tr>\n",
              "    <tr>\n",
              "      <th>2686</th>\n",
              "      <td>4.8</td>\n",
              "      <td>6.147395</td>\n",
              "    </tr>\n",
              "    <tr>\n",
              "      <th>2687</th>\n",
              "      <td>6.7</td>\n",
              "      <td>6.441609</td>\n",
              "    </tr>\n",
              "    <tr>\n",
              "      <th>2688</th>\n",
              "      <td>7.6</td>\n",
              "      <td>6.471031</td>\n",
              "    </tr>\n",
              "    <tr>\n",
              "      <th>2689</th>\n",
              "      <td>7.4</td>\n",
              "      <td>6.544584</td>\n",
              "    </tr>\n",
              "  </tbody>\n",
              "</table>\n",
              "<p>2690 rows × 2 columns</p>\n",
              "</div>\n",
              "      <button class=\"colab-df-convert\" onclick=\"convertToInteractive('df-9ba6e6a2-9219-4c23-9cb0-1da1477e13e9')\"\n",
              "              title=\"Convert this dataframe to an interactive table.\"\n",
              "              style=\"display:none;\">\n",
              "        \n",
              "  <svg xmlns=\"http://www.w3.org/2000/svg\" height=\"24px\"viewBox=\"0 0 24 24\"\n",
              "       width=\"24px\">\n",
              "    <path d=\"M0 0h24v24H0V0z\" fill=\"none\"/>\n",
              "    <path d=\"M18.56 5.44l.94 2.06.94-2.06 2.06-.94-2.06-.94-.94-2.06-.94 2.06-2.06.94zm-11 1L8.5 8.5l.94-2.06 2.06-.94-2.06-.94L8.5 2.5l-.94 2.06-2.06.94zm10 10l.94 2.06.94-2.06 2.06-.94-2.06-.94-.94-2.06-.94 2.06-2.06.94z\"/><path d=\"M17.41 7.96l-1.37-1.37c-.4-.4-.92-.59-1.43-.59-.52 0-1.04.2-1.43.59L10.3 9.45l-7.72 7.72c-.78.78-.78 2.05 0 2.83L4 21.41c.39.39.9.59 1.41.59.51 0 1.02-.2 1.41-.59l7.78-7.78 2.81-2.81c.8-.78.8-2.07 0-2.86zM5.41 20L4 18.59l7.72-7.72 1.47 1.35L5.41 20z\"/>\n",
              "  </svg>\n",
              "      </button>\n",
              "      \n",
              "  <style>\n",
              "    .colab-df-container {\n",
              "      display:flex;\n",
              "      flex-wrap:wrap;\n",
              "      gap: 12px;\n",
              "    }\n",
              "\n",
              "    .colab-df-convert {\n",
              "      background-color: #E8F0FE;\n",
              "      border: none;\n",
              "      border-radius: 50%;\n",
              "      cursor: pointer;\n",
              "      display: none;\n",
              "      fill: #1967D2;\n",
              "      height: 32px;\n",
              "      padding: 0 0 0 0;\n",
              "      width: 32px;\n",
              "    }\n",
              "\n",
              "    .colab-df-convert:hover {\n",
              "      background-color: #E2EBFA;\n",
              "      box-shadow: 0px 1px 2px rgba(60, 64, 67, 0.3), 0px 1px 3px 1px rgba(60, 64, 67, 0.15);\n",
              "      fill: #174EA6;\n",
              "    }\n",
              "\n",
              "    [theme=dark] .colab-df-convert {\n",
              "      background-color: #3B4455;\n",
              "      fill: #D2E3FC;\n",
              "    }\n",
              "\n",
              "    [theme=dark] .colab-df-convert:hover {\n",
              "      background-color: #434B5C;\n",
              "      box-shadow: 0px 1px 3px 1px rgba(0, 0, 0, 0.15);\n",
              "      filter: drop-shadow(0px 1px 2px rgba(0, 0, 0, 0.3));\n",
              "      fill: #FFFFFF;\n",
              "    }\n",
              "  </style>\n",
              "\n",
              "      <script>\n",
              "        const buttonEl =\n",
              "          document.querySelector('#df-9ba6e6a2-9219-4c23-9cb0-1da1477e13e9 button.colab-df-convert');\n",
              "        buttonEl.style.display =\n",
              "          google.colab.kernel.accessAllowed ? 'block' : 'none';\n",
              "\n",
              "        async function convertToInteractive(key) {\n",
              "          const element = document.querySelector('#df-9ba6e6a2-9219-4c23-9cb0-1da1477e13e9');\n",
              "          const dataTable =\n",
              "            await google.colab.kernel.invokeFunction('convertToInteractive',\n",
              "                                                     [key], {});\n",
              "          if (!dataTable) return;\n",
              "\n",
              "          const docLinkHtml = 'Like what you see? Visit the ' +\n",
              "            '<a target=\"_blank\" href=https://colab.research.google.com/notebooks/data_table.ipynb>data table notebook</a>'\n",
              "            + ' to learn more about interactive tables.';\n",
              "          element.innerHTML = '';\n",
              "          dataTable['output_type'] = 'display_data';\n",
              "          await google.colab.output.renderOutput(dataTable, element);\n",
              "          const docLink = document.createElement('div');\n",
              "          docLink.innerHTML = docLinkHtml;\n",
              "          element.appendChild(docLink);\n",
              "        }\n",
              "      </script>\n",
              "    </div>\n",
              "  </div>\n",
              "  "
            ]
          },
          "metadata": {},
          "execution_count": 33
        }
      ]
    },
    {
      "cell_type": "code",
      "source": [
        "evaluasi.head(10).plot(kind='bar')"
      ],
      "metadata": {
        "id": "67RF76CFDkdy",
        "outputId": "c224ed6d-dff3-4de0-ce49-cdddd1482ec5",
        "colab": {
          "base_uri": "https://localhost:8080/",
          "height": 283
        }
      },
      "execution_count": null,
      "outputs": [
        {
          "output_type": "execute_result",
          "data": {
            "text/plain": [
              "<matplotlib.axes._subplots.AxesSubplot at 0x7fb490614a90>"
            ]
          },
          "metadata": {},
          "execution_count": 34
        },
        {
          "output_type": "display_data",
          "data": {
            "text/plain": [
              "<Figure size 432x288 with 1 Axes>"
            ],
            "image/png": "[encoded data removed]"
          },
          "metadata": {
            "needs_background": "light"
          }
        }
      ]
    },
    {
      "cell_type": "code",
      "source": [
        "from sklearn.metrics import mean_squared_error\n",
        "print(mean_squared_error (y_test, y_predict))"
      ],
      "metadata": {
        "id": "UWp95AnyDmch",
        "outputId": "2f2a0609-5650-48eb-a0b2-e29e3d84b167",
        "colab": {
          "base_uri": "https://localhost:8080/"
        }
      },
      "execution_count": null,
      "outputs": [
        {
          "output_type": "stream",
          "name": "stdout",
          "text": [
            "1.7109351425132915\n"
          ]
        }
      ]
    }
  ]
}