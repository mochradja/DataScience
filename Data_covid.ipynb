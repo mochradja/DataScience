{
  "nbformat": 4,
  "nbformat_minor": 0,
  "metadata": {
    "colab": {
      "provenance": [],
      "authorship_tag": "ABX9TyMHLavO0+1aWc7OSo0aP5Nx",
      "include_colab_link": true
    },
    "kernelspec": {
      "name": "python3",
      "display_name": "Python 3"
    },
    "language_info": {
      "name": "python"
    }
  },
  "cells": [
    {
      "cell_type": "markdown",
      "metadata": {
        "id": "view-in-github",
        "colab_type": "text"
      },
      "source": [
        "<a href=\"https://colab.research.google.com/github/mochradja/DataScience/blob/main/Data_covid.ipynb\" target=\"_parent\"><img src=\"https://colab.research.google.com/assets/colab-badge.svg\" alt=\"Open In Colab\"/></a>"
      ]
    },
    {
      "cell_type": "code",
      "execution_count": null,
      "metadata": {
        "id": "Dx_xyJeZcl9R"
      },
      "outputs": [],
      "source": [
        "import pandas as pd\n",
        "from numpy import loadtxt\n",
        "from keras.models import Sequential # model\n",
        "from keras.layers import Dense # membentuk layer"
      ]
    },
    {
      "cell_type": "code",
      "source": [
        "datacov = pd.read_csv('sample_data/covid-19-dataset.csv') #delimeter untuk memberitahu numpy ada tanda koma pada data\n",
        "dataset = datacov.to_numpy()\n",
        "dataset"
      ],
      "metadata": {
        "colab": {
          "base_uri": "https://localhost:8080/"
        },
        "id": "pv4TVtmtcuQu",
        "outputId": "8ada2030-2936-4509-a24d-6a8b618f5b0c"
      },
      "execution_count": null,
      "outputs": [
        {
          "output_type": "execute_result",
          "data": {
            "text/plain": [
              "array([[102,   0,   9,   0,  -1,   0],\n",
              "       [102,   0,  10,   0,   0,   1],\n",
              "       [104,   0,  33,   1,  -1,   0],\n",
              "       ...,\n",
              "       [101,   0,  44,   1,   0,   0],\n",
              "       [102,   0,  97,   0,  -1,   1],\n",
              "       [104,   1,  62,   1,  -1,   1]])"
            ]
          },
          "metadata": {},
          "execution_count": 20
        }
      ]
    },
    {
      "cell_type": "code",
      "source": [
        "x = dataset[:, 0:5]\n",
        "y = dataset[:, 5]"
      ],
      "metadata": {
        "id": "NqgNbiWnjwSi"
      },
      "execution_count": null,
      "outputs": []
    },
    {
      "cell_type": "code",
      "source": [
        "model = Sequential()\n",
        "model.add(Dense(16, input_dim=5, activation='relu'))\n",
        "model.add(Dense(5, activation='relu'))\n",
        "model.add(Dense(1, activation='sigmoid'))"
      ],
      "metadata": {
        "id": "JB6ya-TCg0Wi"
      },
      "execution_count": null,
      "outputs": []
    },
    {
      "cell_type": "code",
      "source": [
        "model.compile(loss='binary_crossentropy', \n",
        "              optimizer='adam', \n",
        "              metrics=['accuracy'])"
      ],
      "metadata": {
        "id": "3t96oanFkgLa"
      },
      "execution_count": null,
      "outputs": []
    },
    {
      "cell_type": "code",
      "source": [
        "model.fit(x, y, epochs=100, batch_size=10)"
      ],
      "metadata": {
        "colab": {
          "base_uri": "https://localhost:8080/"
        },
        "id": "z_9pv3Qckjnk",
        "outputId": "25008b9a-79cc-4708-f693-c54b78844e2f"
      },
      "execution_count": null,
      "outputs": [
        {
          "output_type": "stream",
          "name": "stdout",
          "text": [
            "Epoch 1/100\n",
            "258/258 [==============================] - 0s 2ms/step - loss: 0.6931 - accuracy: 0.5064\n",
            "Epoch 2/100\n",
            "258/258 [==============================] - 0s 2ms/step - loss: 0.6931 - accuracy: 0.5064\n",
            "Epoch 3/100\n",
            "258/258 [==============================] - 0s 2ms/step - loss: 0.6931 - accuracy: 0.5064\n",
            "Epoch 4/100\n",
            "258/258 [==============================] - 0s 2ms/step - loss: 0.6931 - accuracy: 0.5064\n",
            "Epoch 5/100\n",
            "258/258 [==============================] - 0s 2ms/step - loss: 0.6931 - accuracy: 0.5064\n",
            "Epoch 6/100\n",
            "258/258 [==============================] - 0s 2ms/step - loss: 0.6932 - accuracy: 0.5064\n",
            "Epoch 7/100\n",
            "258/258 [==============================] - 0s 2ms/step - loss: 0.6931 - accuracy: 0.5064\n",
            "Epoch 8/100\n",
            "258/258 [==============================] - 0s 2ms/step - loss: 0.6931 - accuracy: 0.5064\n",
            "Epoch 9/100\n",
            "258/258 [==============================] - 0s 2ms/step - loss: 0.6931 - accuracy: 0.5064\n",
            "Epoch 10/100\n",
            "258/258 [==============================] - 0s 2ms/step - loss: 0.6931 - accuracy: 0.5064\n",
            "Epoch 11/100\n",
            "258/258 [==============================] - 0s 2ms/step - loss: 0.6931 - accuracy: 0.5064\n",
            "Epoch 12/100\n",
            "258/258 [==============================] - 0s 2ms/step - loss: 0.6932 - accuracy: 0.5064\n",
            "Epoch 13/100\n",
            "258/258 [==============================] - 0s 2ms/step - loss: 0.6931 - accuracy: 0.5064\n",
            "Epoch 14/100\n",
            "258/258 [==============================] - 0s 2ms/step - loss: 0.6931 - accuracy: 0.5064\n",
            "Epoch 15/100\n",
            "258/258 [==============================] - 0s 2ms/step - loss: 0.6931 - accuracy: 0.5064\n",
            "Epoch 16/100\n",
            "258/258 [==============================] - 0s 2ms/step - loss: 0.6931 - accuracy: 0.5064\n",
            "Epoch 17/100\n",
            "258/258 [==============================] - 0s 2ms/step - loss: 0.6932 - accuracy: 0.5064\n",
            "Epoch 18/100\n",
            "258/258 [==============================] - 0s 2ms/step - loss: 0.6931 - accuracy: 0.5064\n",
            "Epoch 19/100\n",
            "258/258 [==============================] - 0s 2ms/step - loss: 0.6931 - accuracy: 0.5064\n",
            "Epoch 20/100\n",
            "258/258 [==============================] - 0s 2ms/step - loss: 0.6932 - accuracy: 0.5064\n",
            "Epoch 21/100\n",
            "258/258 [==============================] - 0s 2ms/step - loss: 0.6931 - accuracy: 0.5064\n",
            "Epoch 22/100\n",
            "258/258 [==============================] - 0s 2ms/step - loss: 0.6931 - accuracy: 0.5064\n",
            "Epoch 23/100\n",
            "258/258 [==============================] - 0s 2ms/step - loss: 0.6931 - accuracy: 0.5064\n",
            "Epoch 24/100\n",
            "258/258 [==============================] - 0s 2ms/step - loss: 0.6931 - accuracy: 0.5064\n",
            "Epoch 25/100\n",
            "258/258 [==============================] - 0s 2ms/step - loss: 0.6932 - accuracy: 0.5064\n",
            "Epoch 26/100\n",
            "258/258 [==============================] - 0s 2ms/step - loss: 0.6932 - accuracy: 0.5064\n",
            "Epoch 27/100\n",
            "258/258 [==============================] - 0s 2ms/step - loss: 0.6931 - accuracy: 0.5064\n",
            "Epoch 28/100\n",
            "258/258 [==============================] - 0s 2ms/step - loss: 0.6932 - accuracy: 0.5064\n",
            "Epoch 29/100\n",
            "258/258 [==============================] - 0s 2ms/step - loss: 0.6931 - accuracy: 0.5064\n",
            "Epoch 30/100\n",
            "258/258 [==============================] - 0s 2ms/step - loss: 0.6931 - accuracy: 0.5064\n",
            "Epoch 31/100\n",
            "258/258 [==============================] - 0s 2ms/step - loss: 0.6932 - accuracy: 0.5064\n",
            "Epoch 32/100\n",
            "258/258 [==============================] - 0s 2ms/step - loss: 0.6932 - accuracy: 0.5064\n",
            "Epoch 33/100\n",
            "258/258 [==============================] - 0s 2ms/step - loss: 0.6931 - accuracy: 0.5064\n",
            "Epoch 34/100\n",
            "258/258 [==============================] - 0s 2ms/step - loss: 0.6932 - accuracy: 0.5064\n",
            "Epoch 35/100\n",
            "258/258 [==============================] - 0s 2ms/step - loss: 0.6931 - accuracy: 0.5064\n",
            "Epoch 36/100\n",
            "258/258 [==============================] - 0s 2ms/step - loss: 0.6931 - accuracy: 0.5064\n",
            "Epoch 37/100\n",
            "258/258 [==============================] - 0s 2ms/step - loss: 0.6931 - accuracy: 0.5064\n",
            "Epoch 38/100\n",
            "258/258 [==============================] - 0s 2ms/step - loss: 0.6931 - accuracy: 0.5064\n",
            "Epoch 39/100\n",
            "258/258 [==============================] - 0s 2ms/step - loss: 0.6931 - accuracy: 0.5064\n",
            "Epoch 40/100\n",
            "258/258 [==============================] - 0s 2ms/step - loss: 0.6931 - accuracy: 0.5064\n",
            "Epoch 41/100\n",
            "258/258 [==============================] - 0s 2ms/step - loss: 0.6931 - accuracy: 0.5064\n",
            "Epoch 42/100\n",
            "258/258 [==============================] - 0s 2ms/step - loss: 0.6931 - accuracy: 0.5064\n",
            "Epoch 43/100\n",
            "258/258 [==============================] - 0s 2ms/step - loss: 0.6932 - accuracy: 0.5064\n",
            "Epoch 44/100\n",
            "258/258 [==============================] - 0s 2ms/step - loss: 0.6931 - accuracy: 0.5064\n",
            "Epoch 45/100\n",
            "258/258 [==============================] - 0s 2ms/step - loss: 0.6931 - accuracy: 0.5064\n",
            "Epoch 46/100\n",
            "258/258 [==============================] - 0s 2ms/step - loss: 0.6931 - accuracy: 0.5064\n",
            "Epoch 47/100\n",
            "258/258 [==============================] - 0s 2ms/step - loss: 0.6931 - accuracy: 0.5064\n",
            "Epoch 48/100\n",
            "258/258 [==============================] - 0s 2ms/step - loss: 0.6931 - accuracy: 0.5064\n",
            "Epoch 49/100\n",
            "258/258 [==============================] - 0s 2ms/step - loss: 0.6931 - accuracy: 0.5064\n",
            "Epoch 50/100\n",
            "258/258 [==============================] - 0s 2ms/step - loss: 0.6931 - accuracy: 0.5064\n",
            "Epoch 51/100\n",
            "258/258 [==============================] - 0s 2ms/step - loss: 0.6931 - accuracy: 0.5064\n",
            "Epoch 52/100\n",
            "258/258 [==============================] - 0s 2ms/step - loss: 0.6931 - accuracy: 0.5064\n",
            "Epoch 53/100\n",
            "258/258 [==============================] - 0s 2ms/step - loss: 0.6931 - accuracy: 0.5064\n",
            "Epoch 54/100\n",
            "258/258 [==============================] - 0s 2ms/step - loss: 0.6931 - accuracy: 0.5064\n",
            "Epoch 55/100\n",
            "258/258 [==============================] - 0s 2ms/step - loss: 0.6931 - accuracy: 0.5064\n",
            "Epoch 56/100\n",
            "258/258 [==============================] - 0s 2ms/step - loss: 0.6931 - accuracy: 0.5064\n",
            "Epoch 57/100\n",
            "258/258 [==============================] - 0s 2ms/step - loss: 0.6931 - accuracy: 0.5064\n",
            "Epoch 58/100\n",
            "258/258 [==============================] - 0s 2ms/step - loss: 0.6931 - accuracy: 0.5064\n",
            "Epoch 59/100\n",
            "258/258 [==============================] - 0s 2ms/step - loss: 0.6931 - accuracy: 0.5064\n",
            "Epoch 60/100\n",
            "258/258 [==============================] - 0s 2ms/step - loss: 0.6931 - accuracy: 0.5064\n",
            "Epoch 61/100\n",
            "258/258 [==============================] - 0s 2ms/step - loss: 0.6931 - accuracy: 0.5064\n",
            "Epoch 62/100\n",
            "258/258 [==============================] - 0s 2ms/step - loss: 0.6931 - accuracy: 0.5064\n",
            "Epoch 63/100\n",
            "258/258 [==============================] - 0s 2ms/step - loss: 0.6932 - accuracy: 0.5064\n",
            "Epoch 64/100\n",
            "258/258 [==============================] - 0s 2ms/step - loss: 0.6932 - accuracy: 0.5064\n",
            "Epoch 65/100\n",
            "258/258 [==============================] - 0s 2ms/step - loss: 0.6931 - accuracy: 0.5064\n",
            "Epoch 66/100\n",
            "258/258 [==============================] - 0s 2ms/step - loss: 0.6931 - accuracy: 0.5064\n",
            "Epoch 67/100\n",
            "258/258 [==============================] - 0s 2ms/step - loss: 0.6932 - accuracy: 0.5064\n",
            "Epoch 68/100\n",
            "258/258 [==============================] - 0s 2ms/step - loss: 0.6931 - accuracy: 0.5064\n",
            "Epoch 69/100\n",
            "258/258 [==============================] - 0s 2ms/step - loss: 0.6931 - accuracy: 0.5064\n",
            "Epoch 70/100\n",
            "258/258 [==============================] - 0s 2ms/step - loss: 0.6931 - accuracy: 0.5064\n",
            "Epoch 71/100\n",
            "258/258 [==============================] - 0s 2ms/step - loss: 0.6931 - accuracy: 0.5064\n",
            "Epoch 72/100\n",
            "258/258 [==============================] - 0s 2ms/step - loss: 0.6931 - accuracy: 0.5064\n",
            "Epoch 73/100\n",
            "258/258 [==============================] - 0s 2ms/step - loss: 0.6931 - accuracy: 0.5064\n",
            "Epoch 74/100\n",
            "258/258 [==============================] - 0s 2ms/step - loss: 0.6931 - accuracy: 0.5064\n",
            "Epoch 75/100\n",
            "258/258 [==============================] - 0s 2ms/step - loss: 0.6931 - accuracy: 0.5064\n",
            "Epoch 76/100\n",
            "258/258 [==============================] - 0s 2ms/step - loss: 0.6932 - accuracy: 0.5064\n",
            "Epoch 77/100\n",
            "258/258 [==============================] - 0s 2ms/step - loss: 0.6931 - accuracy: 0.5064\n",
            "Epoch 78/100\n",
            "258/258 [==============================] - 0s 2ms/step - loss: 0.6931 - accuracy: 0.5064\n",
            "Epoch 79/100\n",
            "258/258 [==============================] - 0s 2ms/step - loss: 0.6931 - accuracy: 0.5064\n",
            "Epoch 80/100\n",
            "258/258 [==============================] - 0s 2ms/step - loss: 0.6932 - accuracy: 0.5064\n",
            "Epoch 81/100\n",
            "258/258 [==============================] - 0s 2ms/step - loss: 0.6932 - accuracy: 0.5064\n",
            "Epoch 82/100\n",
            "258/258 [==============================] - 0s 2ms/step - loss: 0.6931 - accuracy: 0.5064\n",
            "Epoch 83/100\n",
            "258/258 [==============================] - 0s 2ms/step - loss: 0.6931 - accuracy: 0.5064\n",
            "Epoch 84/100\n",
            "258/258 [==============================] - 0s 2ms/step - loss: 0.6931 - accuracy: 0.5064\n",
            "Epoch 85/100\n",
            "258/258 [==============================] - 0s 2ms/step - loss: 0.6931 - accuracy: 0.5064\n",
            "Epoch 86/100\n",
            "258/258 [==============================] - 0s 2ms/step - loss: 0.6931 - accuracy: 0.5064\n",
            "Epoch 87/100\n",
            "258/258 [==============================] - 0s 2ms/step - loss: 0.6931 - accuracy: 0.5064\n",
            "Epoch 88/100\n",
            "258/258 [==============================] - 0s 2ms/step - loss: 0.6931 - accuracy: 0.5064\n",
            "Epoch 89/100\n",
            "258/258 [==============================] - 0s 2ms/step - loss: 0.6932 - accuracy: 0.5064\n",
            "Epoch 90/100\n",
            "258/258 [==============================] - 0s 2ms/step - loss: 0.6931 - accuracy: 0.5064\n",
            "Epoch 91/100\n",
            "258/258 [==============================] - 0s 2ms/step - loss: 0.6931 - accuracy: 0.5064\n",
            "Epoch 92/100\n",
            "258/258 [==============================] - 0s 2ms/step - loss: 0.6931 - accuracy: 0.5064\n",
            "Epoch 93/100\n",
            "258/258 [==============================] - 0s 2ms/step - loss: 0.6931 - accuracy: 0.5064\n",
            "Epoch 94/100\n",
            "258/258 [==============================] - 0s 2ms/step - loss: 0.6931 - accuracy: 0.5064\n",
            "Epoch 95/100\n",
            "258/258 [==============================] - 0s 2ms/step - loss: 0.6931 - accuracy: 0.5064\n",
            "Epoch 96/100\n",
            "258/258 [==============================] - 0s 2ms/step - loss: 0.6931 - accuracy: 0.5064\n",
            "Epoch 97/100\n",
            "258/258 [==============================] - 0s 2ms/step - loss: 0.6931 - accuracy: 0.5064\n",
            "Epoch 98/100\n",
            "258/258 [==============================] - 0s 2ms/step - loss: 0.6931 - accuracy: 0.5064\n",
            "Epoch 99/100\n",
            "258/258 [==============================] - 0s 2ms/step - loss: 0.6932 - accuracy: 0.5064\n",
            "Epoch 100/100\n",
            "258/258 [==============================] - 0s 2ms/step - loss: 0.6931 - accuracy: 0.5064\n"
          ]
        },
        {
          "output_type": "execute_result",
          "data": {
            "text/plain": [
              "<keras.callbacks.History at 0x7f0449aa8990>"
            ]
          },
          "metadata": {},
          "execution_count": 35
        }
      ]
    },
    {
      "cell_type": "code",
      "source": [
        "akurasi = model.evaluate(x, y)[1]\n",
        "print('Akurasi = %.1f' % (akurasi * 100))"
      ],
      "metadata": {
        "colab": {
          "base_uri": "https://localhost:8080/"
        },
        "id": "Ro7rD1g1mb2K",
        "outputId": "de42d984-52db-4c5c-c5b0-9615ed8b0d04"
      },
      "execution_count": null,
      "outputs": [
        {
          "output_type": "stream",
          "name": "stdout",
          "text": [
            "81/81 [==============================] - 0s 1ms/step - loss: 0.6931 - accuracy: 0.5064\n",
            "Akurasi = 50.6\n"
          ]
        }
      ]
    },
    {
      "cell_type": "code",
      "source": [
        "import requests as rq\n",
        "predict = (model.predict(x) > 0.5).astype(int)\n",
        "data_covid = ('%s => %d (expected %d)' % (x[0].tolist(), predict[0], y[0]))\n",
        "\n",
        "data = {'value1' : data_covid[0]}\n",
        "url = 'https://maker.ifttt.com/trigger/test-brojas/with/key/de8hdLI89kaSSipUzan8tl'\n",
        "\n",
        "r = rq.post(url, json = data)\n",
        "print(r.status_code)\n"
      ],
      "metadata": {
        "colab": {
          "base_uri": "https://localhost:8080/"
        },
        "id": "zA2mSLabmgS5",
        "outputId": "d11b3d65-11b8-41d8-ea7a-c99c81c4f05d"
      },
      "execution_count": null,
      "outputs": [
        {
          "output_type": "stream",
          "name": "stdout",
          "text": [
            "200\n"
          ]
        }
      ]
    }
  ]
}