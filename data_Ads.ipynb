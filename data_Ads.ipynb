{
  "nbformat": 4,
  "nbformat_minor": 0,
  "metadata": {
    "colab": {
      "provenance": [],
      "authorship_tag": "ABX9TyPKoFWj7kgyyBryBzXiNoWk",
      "include_colab_link": true
    },
    "kernelspec": {
      "name": "python3",
      "display_name": "Python 3"
    },
    "language_info": {
      "name": "python"
    }
  },
  "cells": [
    {
      "cell_type": "markdown",
      "metadata": {
        "id": "view-in-github",
        "colab_type": "text"
      },
      "source": [
        "<a href=\"https://colab.research.google.com/github/mochradja/DataScience/blob/main/data_Ads.ipynb\" target=\"_parent\"><img src=\"https://colab.research.google.com/assets/colab-badge.svg\" alt=\"Open In Colab\"/></a>"
      ]
    },
    {
      "cell_type": "code",
      "execution_count": null,
      "metadata": {
        "id": "FiS92kJHbLQM"
      },
      "outputs": [],
      "source": [
        "import numpy as np\n",
        "import pandas as pd\n",
        "import seaborn as sns\n",
        "import matplotlib.pyplot as plt"
      ]
    },
    {
      "cell_type": "code",
      "source": [
        "data = pd.read_csv('sample_data/ads.csv')\n",
        "data"
      ],
      "metadata": {
        "id": "4a6xLJMNbZyF"
      },
      "execution_count": null,
      "outputs": []
    },
    {
      "cell_type": "code",
      "source": [
        "data.info()"
      ],
      "metadata": {
        "colab": {
          "base_uri": "https://localhost:8080/"
        },
        "id": "WH4BkqnEbsVB",
        "outputId": "8174ee8a-8789-43ba-aa95-f73d7cc58b24"
      },
      "execution_count": null,
      "outputs": [
        {
          "output_type": "stream",
          "name": "stdout",
          "text": [
            "<class 'pandas.core.frame.DataFrame'>\n",
            "RangeIndex: 4572 entries, 0 to 4571\n",
            "Data columns (total 5 columns):\n",
            " #   Column        Non-Null Count  Dtype  \n",
            "---  ------        --------------  -----  \n",
            " 0   TV            4562 non-null   float64\n",
            " 1   Radio         4568 non-null   float64\n",
            " 2   Social Media  4566 non-null   float64\n",
            " 3   Influencer    4572 non-null   object \n",
            " 4   Sales         4566 non-null   float64\n",
            "dtypes: float64(4), object(1)\n",
            "memory usage: 178.7+ KB\n"
          ]
        }
      ]
    },
    {
      "cell_type": "code",
      "source": [
        "data.isna().sum()"
      ],
      "metadata": {
        "colab": {
          "base_uri": "https://localhost:8080/"
        },
        "id": "oq19Wh-LcFMk",
        "outputId": "0c484b2b-ed28-4876-8703-e6341c587da3"
      },
      "execution_count": null,
      "outputs": [
        {
          "output_type": "execute_result",
          "data": {
            "text/plain": [
              "TV              10\n",
              "Radio            4\n",
              "Social Media     6\n",
              "Influencer       0\n",
              "Sales            6\n",
              "dtype: int64"
            ]
          },
          "metadata": {},
          "execution_count": 7
        }
      ]
    },
    {
      "cell_type": "code",
      "source": [
        "data = data[data.notnull()]"
      ],
      "metadata": {
        "id": "M7Cpv1y-dDSK"
      },
      "execution_count": null,
      "outputs": []
    },
    {
      "cell_type": "markdown",
      "source": [
        "# Clean data TV"
      ],
      "metadata": {
        "id": "LEuZB-j1eIJ5"
      }
    },
    {
      "cell_type": "code",
      "source": [
        "data['TV'].isna().value_counts()\n",
        "not_nan = data['TV'].isnull() == False\n",
        "data['TV'].loc[not_nan]\n",
        "\n",
        "tv = data['TV'].loc[data['TV'].isnull() == False]\n",
        "tv_mean = tv.mean()\n",
        "\n",
        "data['TV'] = data['TV'].fillna(tv_mean)\n",
        "data['TV'].head()"
      ],
      "metadata": {
        "colab": {
          "base_uri": "https://localhost:8080/"
        },
        "id": "k9lnaz8ldW1a",
        "outputId": "6bb1274b-193e-4f17-c1ba-a4854ebc4cf5"
      },
      "execution_count": null,
      "outputs": [
        {
          "output_type": "execute_result",
          "data": {
            "text/plain": [
              "0    16.0\n",
              "1    13.0\n",
              "2    41.0\n",
              "3    83.0\n",
              "4    15.0\n",
              "Name: TV, dtype: float64"
            ]
          },
          "metadata": {},
          "execution_count": 14
        }
      ]
    },
    {
      "cell_type": "code",
      "source": [
        "data['TV'].isnull().value_counts()"
      ],
      "metadata": {
        "colab": {
          "base_uri": "https://localhost:8080/"
        },
        "id": "YI2mrggCeBhd",
        "outputId": "777466ce-473b-4cf5-a9a3-3963ee95fab5"
      },
      "execution_count": null,
      "outputs": [
        {
          "output_type": "execute_result",
          "data": {
            "text/plain": [
              "False    4572\n",
              "Name: TV, dtype: int64"
            ]
          },
          "metadata": {},
          "execution_count": 15
        }
      ]
    },
    {
      "cell_type": "markdown",
      "source": [
        "# Clean data radio"
      ],
      "metadata": {
        "id": "kLDFO1UzeNXh"
      }
    },
    {
      "cell_type": "code",
      "source": [
        "data['Radio'].isna().value_counts()\n",
        "not_nan = data['Radio'].isnull() == False\n",
        "data['Radio'].loc[not_nan]\n",
        "\n",
        "radio = data['Radio'].loc[data['Radio'].isnull() == False]\n",
        "radio_mean = radio.mean()\n",
        "\n",
        "data['Radio'] = data['Radio'].fillna(radio_mean)\n",
        "data['Radio'].head()"
      ],
      "metadata": {
        "colab": {
          "base_uri": "https://localhost:8080/"
        },
        "id": "LwuMZANieRIE",
        "outputId": "1f82eb10-2ae3-4f24-d16e-dbe8d05ad73f"
      },
      "execution_count": null,
      "outputs": [
        {
          "output_type": "execute_result",
          "data": {
            "text/plain": [
              "0     6.566231\n",
              "1     9.237765\n",
              "2    15.886446\n",
              "3    30.020028\n",
              "4     8.437408\n",
              "Name: Radio, dtype: float64"
            ]
          },
          "metadata": {},
          "execution_count": 16
        }
      ]
    },
    {
      "cell_type": "code",
      "source": [
        "data['TV'].isnull().value_counts()"
      ],
      "metadata": {
        "colab": {
          "base_uri": "https://localhost:8080/"
        },
        "id": "2cCSQdD5efM2",
        "outputId": "0e7fb187-e668-459f-a741-1eb248f3b555"
      },
      "execution_count": null,
      "outputs": [
        {
          "output_type": "execute_result",
          "data": {
            "text/plain": [
              "False    4572\n",
              "Name: TV, dtype: int64"
            ]
          },
          "metadata": {},
          "execution_count": 17
        }
      ]
    },
    {
      "cell_type": "markdown",
      "source": [
        "# Clean social media"
      ],
      "metadata": {
        "id": "8dsUHD4Yeg3s"
      }
    },
    {
      "cell_type": "code",
      "source": [
        "data['Social Media'].isna().value_counts()\n",
        "not_nan = data['Social Media'].isnull() == False\n",
        "data['Social Media'].loc[not_nan]\n",
        "\n",
        "social = data['Social Media'].loc[data['Social Media'].isnull() == False]\n",
        "social_mean = social.mean()\n",
        "\n",
        "data['Social Media'] = data['Social Media'].fillna(social_mean)\n",
        "data['Social Media'].head()"
      ],
      "metadata": {
        "colab": {
          "base_uri": "https://localhost:8080/"
        },
        "id": "cTXsEBhnefmF",
        "outputId": "0fce59d7-8c0a-430a-b651-cc17f13189a1"
      },
      "execution_count": null,
      "outputs": [
        {
          "output_type": "execute_result",
          "data": {
            "text/plain": [
              "0    2.907983\n",
              "1    2.409567\n",
              "2    2.913410\n",
              "3    6.922304\n",
              "4    1.405998\n",
              "Name: Social Media, dtype: float64"
            ]
          },
          "metadata": {},
          "execution_count": 20
        }
      ]
    },
    {
      "cell_type": "code",
      "source": [
        "data['Social Media'].isnull().value_counts()"
      ],
      "metadata": {
        "colab": {
          "base_uri": "https://localhost:8080/"
        },
        "id": "WBb2OBQ6fAua",
        "outputId": "1ba157a1-d906-4d18-f569-fe2cd84db0de"
      },
      "execution_count": null,
      "outputs": [
        {
          "output_type": "execute_result",
          "data": {
            "text/plain": [
              "False    4572\n",
              "Name: Social Media, dtype: int64"
            ]
          },
          "metadata": {},
          "execution_count": 21
        }
      ]
    },
    {
      "cell_type": "markdown",
      "source": [
        "# Clean Sales"
      ],
      "metadata": {
        "id": "Iofdx_zvfD5v"
      }
    },
    {
      "cell_type": "code",
      "source": [
        "data['Sales'].isna().value_counts()\n",
        "not_nan = data['Sales'].isnull() == False\n",
        "data['Sales'].loc[not_nan]\n",
        "\n",
        "sales = data['Sales'].loc[data['Sales'].isnull() == False]\n",
        "sales_mean = sales.mean()\n",
        "\n",
        "data['Sales'] = data['Sales'].fillna(sales_mean)\n",
        "data['Sales'].head()"
      ],
      "metadata": {
        "colab": {
          "base_uri": "https://localhost:8080/"
        },
        "id": "Nc6_j0CafHrc",
        "outputId": "fd226941-9b5b-4476-976b-d79b6a8d0514"
      },
      "execution_count": null,
      "outputs": [
        {
          "output_type": "execute_result",
          "data": {
            "text/plain": [
              "0     54.732757\n",
              "1     46.677897\n",
              "2    150.177829\n",
              "3    298.246340\n",
              "4     56.594181\n",
              "Name: Sales, dtype: float64"
            ]
          },
          "metadata": {},
          "execution_count": 22
        }
      ]
    },
    {
      "cell_type": "code",
      "source": [
        "data['Sales'].isnull().value_counts()"
      ],
      "metadata": {
        "colab": {
          "base_uri": "https://localhost:8080/"
        },
        "id": "97X0Q8elfV5j",
        "outputId": "b209f401-4960-4cfc-bed0-d16cc817466e"
      },
      "execution_count": null,
      "outputs": [
        {
          "output_type": "execute_result",
          "data": {
            "text/plain": [
              "False    4572\n",
              "Name: Sales, dtype: int64"
            ]
          },
          "metadata": {},
          "execution_count": 23
        }
      ]
    },
    {
      "cell_type": "markdown",
      "source": [
        "# Memeriksa kolerasi "
      ],
      "metadata": {
        "id": "iDoBtaAWfYD_"
      }
    },
    {
      "cell_type": "code",
      "source": [
        "sns.heatmap(data[['TV', 'Social Media']].corr(), annot=True)"
      ],
      "metadata": {
        "colab": {
          "base_uri": "https://localhost:8080/",
          "height": 287
        },
        "id": "gi93CLjofcuo",
        "outputId": "e8e2fdb8-ea2c-4575-be2d-ad6f2cd9ca22"
      },
      "execution_count": null,
      "outputs": [
        {
          "output_type": "execute_result",
          "data": {
            "text/plain": [
              "<matplotlib.axes._subplots.AxesSubplot at 0x7f2ad7504c90>"
            ]
          },
          "metadata": {},
          "execution_count": 24
        },
        {
          "output_type": "display_data",
          "data": {
            "text/plain": [
              "<Figure size 432x288 with 2 Axes>"
            ],
            "image/png": "[encoded data removed]"
          },
          "metadata": {
            "needs_background": "light"
          }
        }
      ]
    },
    {
      "cell_type": "code",
      "source": [
        "sns.heatmap(data[['TV', 'Sales']].corr(), annot=True)"
      ],
      "metadata": {
        "colab": {
          "base_uri": "https://localhost:8080/",
          "height": 287
        },
        "id": "g1wLp5HgflOb",
        "outputId": "ef3b4c80-e379-4005-9874-1e7f707d954d"
      },
      "execution_count": null,
      "outputs": [
        {
          "output_type": "execute_result",
          "data": {
            "text/plain": [
              "<matplotlib.axes._subplots.AxesSubplot at 0x7f2ad4794610>"
            ]
          },
          "metadata": {},
          "execution_count": 25
        },
        {
          "output_type": "display_data",
          "data": {
            "text/plain": [
              "<Figure size 432x288 with 2 Axes>"
            ],
            "image/png": "[encoded data removed]"
          },
          "metadata": {
            "needs_background": "light"
          }
        }
      ]
    },
    {
      "cell_type": "code",
      "source": [
        "sns.lmplot(x='TV', y='Sales', data=data)"
      ],
      "metadata": {
        "colab": {
          "base_uri": "https://localhost:8080/",
          "height": 388
        },
        "id": "7jOx-tBnfyaC",
        "outputId": "f8c4de78-9038-4ace-8fea-7003337c5a12"
      },
      "execution_count": null,
      "outputs": [
        {
          "output_type": "execute_result",
          "data": {
            "text/plain": [
              "<seaborn.axisgrid.FacetGrid at 0x7f2ad472f210>"
            ]
          },
          "metadata": {},
          "execution_count": 26
        },
        {
          "output_type": "display_data",
          "data": {
            "text/plain": [
              "<Figure size 360x360 with 1 Axes>"
            ],
            "image/png": "[encoded data removed]"
          },
          "metadata": {
            "needs_background": "light"
          }
        }
      ]
    },
    {
      "cell_type": "markdown",
      "source": [
        "# Proses melatih dan membuat model"
      ],
      "metadata": {
        "id": "m28UXmKff8AY"
      }
    },
    {
      "cell_type": "code",
      "source": [
        "x = data[['TV']]\n",
        "y = data[['Sales']]"
      ],
      "metadata": {
        "id": "Bjhqtwubf_WU"
      },
      "execution_count": null,
      "outputs": []
    },
    {
      "cell_type": "markdown",
      "source": [
        "# Proses membandingkan dengan 70 : 30"
      ],
      "metadata": {
        "id": "8yWb0AfjgFTb"
      }
    },
    {
      "cell_type": "code",
      "source": [
        "# Training data\n",
        "from sklearn.model_selection import train_test_split\n",
        "\n",
        "x_train, x_test, y_train, y_test = train_test_split(x, y, test_size = 0.3, random_state=10)"
      ],
      "metadata": {
        "id": "Z6PSI9JJgJ4i"
      },
      "execution_count": null,
      "outputs": []
    },
    {
      "cell_type": "code",
      "source": [
        "# Membuat model\n",
        "\n",
        "from sklearn.linear_model import LinearRegression\n",
        "\n",
        "data = LinearRegression()\n",
        "data.fit(x_train, y_train)"
      ],
      "metadata": {
        "colab": {
          "base_uri": "https://localhost:8080/"
        },
        "id": "qT-ZekBjgN9h",
        "outputId": "1c8a2417-ebb2-44fe-cc7f-bda8a35fdff6"
      },
      "execution_count": null,
      "outputs": [
        {
          "output_type": "execute_result",
          "data": {
            "text/plain": [
              "LinearRegression()"
            ]
          },
          "metadata": {},
          "execution_count": 30
        }
      ]
    },
    {
      "cell_type": "markdown",
      "source": [
        "# Uji coba disini"
      ],
      "metadata": {
        "id": "nAnJyhMFgSDz"
      }
    },
    {
      "cell_type": "code",
      "source": [
        "data.intercept_, data.coef_"
      ],
      "metadata": {
        "colab": {
          "base_uri": "https://localhost:8080/"
        },
        "id": "i5Sq9NMLgQsn",
        "outputId": "c5e06d83-9084-4b9d-d801-aa144fdd6ba3"
      },
      "execution_count": null,
      "outputs": [
        {
          "output_type": "execute_result",
          "data": {
            "text/plain": [
              "(array([0.1976656]), array([[3.55394622]]))"
            ]
          },
          "metadata": {},
          "execution_count": 32
        }
      ]
    },
    {
      "cell_type": "code",
      "source": [
        "x = 83.6\n",
        "y = 0.1976656 + 3.55394622 * x\n",
        "print(y)"
      ],
      "metadata": {
        "colab": {
          "base_uri": "https://localhost:8080/"
        },
        "id": "9nw2CaWSgVuA",
        "outputId": "fbebc3cc-55c9-4ace-82ba-d28e52cfbecd"
      },
      "execution_count": null,
      "outputs": [
        {
          "output_type": "stream",
          "name": "stdout",
          "text": [
            "297.30756959199994\n"
          ]
        }
      ]
    },
    {
      "cell_type": "code",
      "source": [
        "y_pred = data.predict(x_test)\n",
        "plt.scatter(x_test, y_test)\n",
        "plt.plot(x_test, y_pred, c='y')\n",
        "plt.xlabel('TV')\n",
        "plt.ylabel('Sales')\n",
        "plt.title('Plot TV dan Sales')"
      ],
      "metadata": {
        "colab": {
          "base_uri": "https://localhost:8080/",
          "height": 313
        },
        "id": "FQ8bMDLdgodz",
        "outputId": "ae518632-1dc7-4427-bc48-49bb2c637091"
      },
      "execution_count": null,
      "outputs": [
        {
          "output_type": "execute_result",
          "data": {
            "text/plain": [
              "Text(0.5, 1.0, 'Plot TV dan Sales')"
            ]
          },
          "metadata": {},
          "execution_count": 40
        },
        {
          "output_type": "display_data",
          "data": {
            "text/plain": [
              "<Figure size 432x288 with 1 Axes>"
            ],
            "image/png": "[encoded data removed]"
          },
          "metadata": {
            "needs_background": "light"
          }
        }
      ]
    },
    {
      "cell_type": "markdown",
      "source": [
        "# Evaluasi model"
      ],
      "metadata": {
        "id": "RGdB84mYgvTx"
      }
    },
    {
      "cell_type": "code",
      "source": [
        "data.score(x_test, y_test)"
      ],
      "metadata": {
        "colab": {
          "base_uri": "https://localhost:8080/"
        },
        "id": "TD7-gvvpgw54",
        "outputId": "62c9402d-5e37-4390-ee8d-ea0832158ef0"
      },
      "execution_count": null,
      "outputs": [
        {
          "output_type": "execute_result",
          "data": {
            "text/plain": [
              "0.992700895453413"
            ]
          },
          "metadata": {},
          "execution_count": 41
        }
      ]
    },
    {
      "cell_type": "markdown",
      "source": [
        "# Prediksi aktual dan"
      ],
      "metadata": {
        "id": "kEr352Y-g12T"
      }
    },
    {
      "cell_type": "code",
      "source": [
        "y_predict = data.predict(x_test)\n",
        "\n",
        "evaluasi = pd.DataFrame({\n",
        "    'TV': y_test.values.flatten(),\n",
        "    'Sales' : y_predict.flatten()\n",
        "    })\n",
        "\n",
        "evaluasi"
      ],
      "metadata": {
        "colab": {
          "base_uri": "https://localhost:8080/",
          "height": 423
        },
        "id": "qbKjBxgrg5Fa",
        "outputId": "260e33e0-adcf-4e9f-dc62-09db4417f79e"
      },
      "execution_count": null,
      "outputs": [
        {
          "output_type": "execute_result",
          "data": {
            "text/plain": [
              "              TV       Sales\n",
              "0     324.160944  323.606772\n",
              "1      91.497529   99.708160\n",
              "2      56.110375   57.060805\n",
              "3     119.967546  121.031837\n",
              "4     261.620188  256.081794\n",
              "...          ...         ...\n",
              "1367   53.557997   57.060805\n",
              "1368  263.020687  266.743632\n",
              "1369  260.062857  259.635740\n",
              "1370  339.190205  334.268611\n",
              "1371  149.232431  153.017353\n",
              "\n",
              "[1372 rows x 2 columns]"
            ],
            "text/html": [
              "\n",
              "  <div id=\"df-636e3d7a-a367-4cb4-b2df-2632178be588\">\n",
              "    <div class=\"colab-df-container\">\n",
              "      <div>\n",
              "<style scoped>\n",
              "    .dataframe tbody tr th:only-of-type {\n",
              "        vertical-align: middle;\n",
              "    }\n",
              "\n",
              "    .dataframe tbody tr th {\n",
              "        vertical-align: top;\n",
              "    }\n",
              "\n",
              "    .dataframe thead th {\n",
              "        text-align: right;\n",
              "    }\n",
              "</style>\n",
              "<table border=\"1\" class=\"dataframe\">\n",
              "  <thead>\n",
              "    <tr style=\"text-align: right;\">\n",
              "      <th></th>\n",
              "      <th>TV</th>\n",
              "      <th>Sales</th>\n",
              "    </tr>\n",
              "  </thead>\n",
              "  <tbody>\n",
              "    <tr>\n",
              "      <th>0</th>\n",
              "      <td>324.160944</td>\n",
              "      <td>323.606772</td>\n",
              "    </tr>\n",
              "    <tr>\n",
              "      <th>1</th>\n",
              "      <td>91.497529</td>\n",
              "      <td>99.708160</td>\n",
              "    </tr>\n",
              "    <tr>\n",
              "      <th>2</th>\n",
              "      <td>56.110375</td>\n",
              "      <td>57.060805</td>\n",
              "    </tr>\n",
              "    <tr>\n",
              "      <th>3</th>\n",
              "      <td>119.967546</td>\n",
              "      <td>121.031837</td>\n",
              "    </tr>\n",
              "    <tr>\n",
              "      <th>4</th>\n",
              "      <td>261.620188</td>\n",
              "      <td>256.081794</td>\n",
              "    </tr>\n",
              "    <tr>\n",
              "      <th>...</th>\n",
              "      <td>...</td>\n",
              "      <td>...</td>\n",
              "    </tr>\n",
              "    <tr>\n",
              "      <th>1367</th>\n",
              "      <td>53.557997</td>\n",
              "      <td>57.060805</td>\n",
              "    </tr>\n",
              "    <tr>\n",
              "      <th>1368</th>\n",
              "      <td>263.020687</td>\n",
              "      <td>266.743632</td>\n",
              "    </tr>\n",
              "    <tr>\n",
              "      <th>1369</th>\n",
              "      <td>260.062857</td>\n",
              "      <td>259.635740</td>\n",
              "    </tr>\n",
              "    <tr>\n",
              "      <th>1370</th>\n",
              "      <td>339.190205</td>\n",
              "      <td>334.268611</td>\n",
              "    </tr>\n",
              "    <tr>\n",
              "      <th>1371</th>\n",
              "      <td>149.232431</td>\n",
              "      <td>153.017353</td>\n",
              "    </tr>\n",
              "  </tbody>\n",
              "</table>\n",
              "<p>1372 rows × 2 columns</p>\n",
              "</div>\n",
              "      <button class=\"colab-df-convert\" onclick=\"convertToInteractive('df-636e3d7a-a367-4cb4-b2df-2632178be588')\"\n",
              "              title=\"Convert this dataframe to an interactive table.\"\n",
              "              style=\"display:none;\">\n",
              "        \n",
              "  <svg xmlns=\"http://www.w3.org/2000/svg\" height=\"24px\"viewBox=\"0 0 24 24\"\n",
              "       width=\"24px\">\n",
              "    <path d=\"M0 0h24v24H0V0z\" fill=\"none\"/>\n",
              "    <path d=\"M18.56 5.44l.94 2.06.94-2.06 2.06-.94-2.06-.94-.94-2.06-.94 2.06-2.06.94zm-11 1L8.5 8.5l.94-2.06 2.06-.94-2.06-.94L8.5 2.5l-.94 2.06-2.06.94zm10 10l.94 2.06.94-2.06 2.06-.94-2.06-.94-.94-2.06-.94 2.06-2.06.94z\"/><path d=\"M17.41 7.96l-1.37-1.37c-.4-.4-.92-.59-1.43-.59-.52 0-1.04.2-1.43.59L10.3 9.45l-7.72 7.72c-.78.78-.78 2.05 0 2.83L4 21.41c.39.39.9.59 1.41.59.51 0 1.02-.2 1.41-.59l7.78-7.78 2.81-2.81c.8-.78.8-2.07 0-2.86zM5.41 20L4 18.59l7.72-7.72 1.47 1.35L5.41 20z\"/>\n",
              "  </svg>\n",
              "      </button>\n",
              "      \n",
              "  <style>\n",
              "    .colab-df-container {\n",
              "      display:flex;\n",
              "      flex-wrap:wrap;\n",
              "      gap: 12px;\n",
              "    }\n",
              "\n",
              "    .colab-df-convert {\n",
              "      background-color: #E8F0FE;\n",
              "      border: none;\n",
              "      border-radius: 50%;\n",
              "      cursor: pointer;\n",
              "      display: none;\n",
              "      fill: #1967D2;\n",
              "      height: 32px;\n",
              "      padding: 0 0 0 0;\n",
              "      width: 32px;\n",
              "    }\n",
              "\n",
              "    .colab-df-convert:hover {\n",
              "      background-color: #E2EBFA;\n",
              "      box-shadow: 0px 1px 2px rgba(60, 64, 67, 0.3), 0px 1px 3px 1px rgba(60, 64, 67, 0.15);\n",
              "      fill: #174EA6;\n",
              "    }\n",
              "\n",
              "    [theme=dark] .colab-df-convert {\n",
              "      background-color: #3B4455;\n",
              "      fill: #D2E3FC;\n",
              "    }\n",
              "\n",
              "    [theme=dark] .colab-df-convert:hover {\n",
              "      background-color: #434B5C;\n",
              "      box-shadow: 0px 1px 3px 1px rgba(0, 0, 0, 0.15);\n",
              "      filter: drop-shadow(0px 1px 2px rgba(0, 0, 0, 0.3));\n",
              "      fill: #FFFFFF;\n",
              "    }\n",
              "  </style>\n",
              "\n",
              "      <script>\n",
              "        const buttonEl =\n",
              "          document.querySelector('#df-636e3d7a-a367-4cb4-b2df-2632178be588 button.colab-df-convert');\n",
              "        buttonEl.style.display =\n",
              "          google.colab.kernel.accessAllowed ? 'block' : 'none';\n",
              "\n",
              "        async function convertToInteractive(key) {\n",
              "          const element = document.querySelector('#df-636e3d7a-a367-4cb4-b2df-2632178be588');\n",
              "          const dataTable =\n",
              "            await google.colab.kernel.invokeFunction('convertToInteractive',\n",
              "                                                     [key], {});\n",
              "          if (!dataTable) return;\n",
              "\n",
              "          const docLinkHtml = 'Like what you see? Visit the ' +\n",
              "            '<a target=\"_blank\" href=https://colab.research.google.com/notebooks/data_table.ipynb>data table notebook</a>'\n",
              "            + ' to learn more about interactive tables.';\n",
              "          element.innerHTML = '';\n",
              "          dataTable['output_type'] = 'display_data';\n",
              "          await google.colab.output.renderOutput(dataTable, element);\n",
              "          const docLink = document.createElement('div');\n",
              "          docLink.innerHTML = docLinkHtml;\n",
              "          element.appendChild(docLink);\n",
              "        }\n",
              "      </script>\n",
              "    </div>\n",
              "  </div>\n",
              "  "
            ]
          },
          "metadata": {},
          "execution_count": 42
        }
      ]
    },
    {
      "cell_type": "code",
      "source": [
        "evaluasi.head(10).plot(kind='bar')"
      ],
      "metadata": {
        "colab": {
          "base_uri": "https://localhost:8080/",
          "height": 280
        },
        "id": "llAu6waQg_3Y",
        "outputId": "4017252d-c183-468d-e7f7-83ee9a246bc4"
      },
      "execution_count": null,
      "outputs": [
        {
          "output_type": "execute_result",
          "data": {
            "text/plain": [
              "<matplotlib.axes._subplots.AxesSubplot at 0x7f2ad17da0d0>"
            ]
          },
          "metadata": {},
          "execution_count": 43
        },
        {
          "output_type": "display_data",
          "data": {
            "text/plain": [
              "<Figure size 432x288 with 1 Axes>"
            ],
            "image/png": "[encoded data removed]"
          },
          "metadata": {
            "needs_background": "light"
          }
        }
      ]
    },
    {
      "cell_type": "code",
      "source": [
        "from sklearn.metrics import mean_squared_error\n",
        "print(mean_squared_error (y_test, y_predict))"
      ],
      "metadata": {
        "colab": {
          "base_uri": "https://localhost:8080/"
        },
        "id": "-iu6gTGthCFE",
        "outputId": "0b28fb5b-a882-483d-a81a-c03ecd8a7c99"
      },
      "execution_count": null,
      "outputs": [
        {
          "output_type": "stream",
          "name": "stdout",
          "text": [
            "63.08370066492155\n"
          ]
        }
      ]
    }
  ]
}